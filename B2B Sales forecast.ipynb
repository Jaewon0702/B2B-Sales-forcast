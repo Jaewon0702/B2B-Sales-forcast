{
  "nbformat": 4,
  "nbformat_minor": 0,
  "metadata": {
    "colab": {
      "provenance": []
    },
    "kernelspec": {
      "name": "python3",
      "display_name": "Python 3"
    },
    "language_info": {
      "name": "python"
    }
  },
  "cells": [
    {
      "cell_type": "markdown",
      "source": [
        "# It's the data, stupid!\n",
        " Lesson that I learnd from project is 'It's the data, stupid!'\n",
        "\n",
        "High performance improvement was possible when I did feature engineering."
      ],
      "metadata": {
        "id": "cAJPl4wnbYVY"
      }
    },
    {
      "cell_type": "markdown",
      "source": [
        "# Plan\n",
        "Need to solve overfittng problem.\n"
      ],
      "metadata": {
        "id": "oB81-aqMdhHV"
      }
    },
    {
      "cell_type": "markdown",
      "source": [
        "#Goal\n",
        "Let's create a machine learning model that predicts who will buy our products."
      ],
      "metadata": {
        "id": "EejhnOoE_PhT"
      }
    },
    {
      "cell_type": "markdown",
      "source": [
        "# Evaluation\n",
        "![image.png](data:image/png;base64,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)"
      ],
      "metadata": {
        "id": "uc_Fcmbbob0R"
      }
    },
    {
      "cell_type": "markdown",
      "source": [
        "# 1. Check data\n",
        "Essential Library"
      ],
      "metadata": {
        "id": "zx5VCzPGdCMw"
      }
    },
    {
      "cell_type": "code",
      "execution_count": null,
      "metadata": {
        "id": "LPeZQUZc-wmJ"
      },
      "outputs": [],
      "source": [
        "import pandas as pd\n",
        "import numpy as np\n",
        "from sklearn.metrics import (\n",
        "    accuracy_score,\n",
        "    confusion_matrix,\n",
        "    f1_score,\n",
        "    precision_score,\n",
        "    recall_score,\n",
        ")\n",
        "from sklearn.model_selection import train_test_split\n",
        "from sklearn.tree import DecisionTreeClassifier\n",
        "from sklearn.model_selection import train_test_split\n",
        "from sklearn.compose import ColumnTransformer\n",
        "from sklearn.pipeline import Pipeline\n",
        "from sklearn.impute import SimpleImputer\n",
        "from sklearn.preprocessing import StandardScaler, OneHotEncoder\n",
        "from sklearn.linear_model import LogisticRegression\n",
        "from sklearn.model_selection import RandomizedSearchCV\n",
        "from scipy.stats import uniform\n",
        "import matplotlib.pyplot as plt"
      ]
    },
    {
      "cell_type": "code",
      "source": [
        "df_train = pd.read_csv(\"/content/drive/MyDrive/LG Aimers/train.csv\") # Train set\n",
        "df_test = pd.read_csv(\"/content/drive/MyDrive/LG Aimers/submission.csv\") # Test set"
      ],
      "metadata": {
        "id": "C_EQ--LX_Wzm"
      },
      "execution_count": null,
      "outputs": []
    },
    {
      "cell_type": "markdown",
      "source": [
        "# Take a Quick Look at the Data Structure\n",
        "* 'is_converted' is label\n",
        "* Precision and Recall should be similar numbers to maximize the F1 score."
      ],
      "metadata": {
        "id": "ku3CJJilAk4A"
      }
    },
    {
      "cell_type": "markdown",
      "source": [
        "##Data Source"
      ],
      "metadata": {
        "id": "HSxMCD2FQ5fo"
      }
    },
    {
      "cell_type": "markdown",
      "source": [
        "https://www.lg-informationdisplay.com/\n",
        "\n",
        "* Click it Inquiry to Buy\n"
      ],
      "metadata": {
        "id": "tc07xHHquEFd"
      }
    },
    {
      "cell_type": "markdown",
      "source": [
        "## Data instruction\n",
        "\n",
        "- bant_submit\n",
        "\n",
        "    Budget, Authority, Need, Timeframe ratio in MQL.\n",
        "\n",
        "- com_reg_ver_win_rate\n",
        "\n",
        "    Opportunity ratio based on vertical Level 1, business unit, region.\n",
        "\n",
        "- id_strategic_ver:\n",
        "\n",
        "    Give weight If the business_unit is ID.\n",
        "\n",
        "- it_strategic_ver\n",
        "    \n",
        "    Give weight If the business_unit is ID,\n",
        "\n",
        "- idit_strategic_ver\n",
        "\n",
        "    Give weight If the business_unit is ID and IT.\n",
        "\n",
        "- lead_desc_length\n",
        "    \n",
        "    The length of the lead description text written by the customer.\n",
        "\n",
        "- ver_cus\n",
        "\n",
        "    Give weight If it is vertical level 1 and end user.\n",
        "\n",
        "- ver_pro\n",
        "\n",
        "    .Give weight If it is vertical level 1 and specific product category.\n",
        "\n",
        "\n",
        "- is_converted\n",
        "\n",
        "    Sales conversion status\n",
        "    "
      ],
      "metadata": {
        "id": "PvD1zgxmCBf3"
      }
    },
    {
      "cell_type": "markdown",
      "source": [
        "##Data Structure"
      ],
      "metadata": {
        "id": "PopwUCq7zIrs"
      }
    },
    {
      "cell_type": "code",
      "source": [
        "df_train.info()"
      ],
      "metadata": {
        "colab": {
          "base_uri": "https://localhost:8080/"
        },
        "id": "lE95W13BTIyU",
        "outputId": "3ff6f212-7319-4599-decd-79693f3775f0"
      },
      "execution_count": null,
      "outputs": [
        {
          "output_type": "stream",
          "name": "stdout",
          "text": [
            "<class 'pandas.core.frame.DataFrame'>\n",
            "RangeIndex: 59299 entries, 0 to 59298\n",
            "Data columns (total 29 columns):\n",
            " #   Column                   Non-Null Count  Dtype  \n",
            "---  ------                   --------------  -----  \n",
            " 0   bant_submit              59299 non-null  float64\n",
            " 1   customer_country         58317 non-null  object \n",
            " 2   business_unit            59299 non-null  object \n",
            " 3   com_reg_ver_win_rate     14568 non-null  float64\n",
            " 4   customer_idx             59299 non-null  int64  \n",
            " 5   customer_type            15338 non-null  object \n",
            " 6   enterprise               59299 non-null  object \n",
            " 7   historical_existing_cnt  13756 non-null  float64\n",
            " 8   id_strategic_ver         3444 non-null   float64\n",
            " 9   it_strategic_ver         1121 non-null   float64\n",
            " 10  idit_strategic_ver       4565 non-null   float64\n",
            " 11  customer_job             40566 non-null  object \n",
            " 12  lead_desc_length         59299 non-null  int64  \n",
            " 13  inquiry_type             58358 non-null  object \n",
            " 14  product_category         39925 non-null  object \n",
            " 15  product_subcategory      9235 non-null   object \n",
            " 16  product_modelname        9229 non-null   object \n",
            " 17  customer_country.1       58317 non-null  object \n",
            " 18  customer_position        59299 non-null  object \n",
            " 19  response_corporate       59299 non-null  object \n",
            " 20  expected_timeline        28436 non-null  object \n",
            " 21  ver_cus                  59299 non-null  int64  \n",
            " 22  ver_pro                  59299 non-null  int64  \n",
            " 23  ver_win_rate_x           18417 non-null  float64\n",
            " 24  ver_win_ratio_per_bu     15304 non-null  float64\n",
            " 25  business_area            18417 non-null  object \n",
            " 26  business_subarea         5526 non-null   object \n",
            " 27  lead_owner               59299 non-null  int64  \n",
            " 28  is_converted             59299 non-null  bool   \n",
            "dtypes: bool(1), float64(8), int64(5), object(15)\n",
            "memory usage: 12.7+ MB\n"
          ]
        }
      ]
    },
    {
      "cell_type": "code",
      "source": [
        "df_train.head(10)"
      ],
      "metadata": {
        "colab": {
          "base_uri": "https://localhost:8080/",
          "height": 585
        },
        "id": "Lt5nBlDBrtsD",
        "outputId": "48ba143e-ba01-42df-ae5d-645aa2d84bda"
      },
      "execution_count": null,
      "outputs": [
        {
          "output_type": "execute_result",
          "data": {
            "text/plain": [
              "   bant_submit           customer_country business_unit  com_reg_ver_win_rate  \\\n",
              "0         1.00   /Quezon City/Philippines            AS              0.066667   \n",
              "1         1.00         /PH-00/Philippines            AS              0.066667   \n",
              "2         1.00            /Kolkata /India            AS              0.088889   \n",
              "3         1.00         /Bhubaneswar/India            AS              0.088889   \n",
              "4         1.00           /Hyderabad/India            AS              0.088889   \n",
              "5         1.00             /Abuja/Nigeria            AS              0.040816   \n",
              "6         0.75  /Jeddah, KSA/Saudi Arabia            AS              0.040816   \n",
              "7         1.00            /Guwahati/India            AS              0.088889   \n",
              "8         0.75     /Cebu city/Philippines            AS              0.066667   \n",
              "9         0.75     /hauz khas,delhi/India            AS              0.088889   \n",
              "\n",
              "   customer_idx          customer_type  enterprise  historical_existing_cnt  \\\n",
              "0         32160           End-Customer  Enterprise                      NaN   \n",
              "1         23122           End-Customer  Enterprise                     12.0   \n",
              "2          1755           End-Customer  Enterprise                    144.0   \n",
              "3          4919           End-Customer  Enterprise                      NaN   \n",
              "4         17126  Specifier/ Influencer  Enterprise                      NaN   \n",
              "5         16328           End-Customer         SMB                      NaN   \n",
              "6         20664           End-Customer         SMB                      NaN   \n",
              "7         17983           End-Customer         SMB                      NaN   \n",
              "8         30867  Specifier/ Influencer  Enterprise                      3.0   \n",
              "9          6084           End-Customer         SMB                      NaN   \n",
              "\n",
              "   id_strategic_ver  it_strategic_ver  ...  response_corporate  \\\n",
              "0               NaN               NaN  ...               LGEPH   \n",
              "1               NaN               NaN  ...               LGEPH   \n",
              "2               NaN               NaN  ...               LGEIL   \n",
              "3               NaN               NaN  ...               LGEIL   \n",
              "4               NaN               NaN  ...               LGEIL   \n",
              "5               NaN               NaN  ...               LGEAF   \n",
              "6               NaN               NaN  ...               LGESJ   \n",
              "7               NaN               NaN  ...               LGEIL   \n",
              "8               NaN               NaN  ...               LGEPH   \n",
              "9               NaN               NaN  ...               LGEIL   \n",
              "\n",
              "     expected_timeline  ver_cus ver_pro ver_win_rate_x ver_win_ratio_per_bu  \\\n",
              "0   less than 3 months        1       0       0.003079             0.026846   \n",
              "1   less than 3 months        1       0       0.003079             0.026846   \n",
              "2   less than 3 months        1       0       0.003079             0.026846   \n",
              "3   less than 3 months        1       0       0.003079             0.026846   \n",
              "4   less than 3 months        0       0       0.003079             0.026846   \n",
              "5   less than 3 months        1       0       0.003079             0.026846   \n",
              "6                  NaN        1       0       0.003079             0.026846   \n",
              "7   less than 3 months        1       0       0.003079             0.026846   \n",
              "8   less than 3 months        0       0       0.003079             0.026846   \n",
              "9  3 months ~ 6 months        1       0       0.003079             0.026846   \n",
              "\n",
              "        business_area business_subarea lead_owner is_converted  \n",
              "0  corporate / office      Engineering          0         True  \n",
              "1  corporate / office      Advertising          1         True  \n",
              "2  corporate / office     Construction          2         True  \n",
              "3  corporate / office      IT/Software          3         True  \n",
              "4  corporate / office              NaN          4         True  \n",
              "5  corporate / office      Engineering          5         True  \n",
              "6  corporate / office      Engineering          6         True  \n",
              "7  corporate / office    Manufacturing          7         True  \n",
              "8  corporate / office     Construction          8         True  \n",
              "9  corporate / office              NaN          9         True  \n",
              "\n",
              "[10 rows x 29 columns]"
            ],
            "text/html": [
              "\n",
              "  <div id=\"df-683981d2-6a9d-42cb-98bb-57eb187927a9\" class=\"colab-df-container\">\n",
              "    <div>\n",
              "<style scoped>\n",
              "    .dataframe tbody tr th:only-of-type {\n",
              "        vertical-align: middle;\n",
              "    }\n",
              "\n",
              "    .dataframe tbody tr th {\n",
              "        vertical-align: top;\n",
              "    }\n",
              "\n",
              "    .dataframe thead th {\n",
              "        text-align: right;\n",
              "    }\n",
              "</style>\n",
              "<table border=\"1\" class=\"dataframe\">\n",
              "  <thead>\n",
              "    <tr style=\"text-align: right;\">\n",
              "      <th></th>\n",
              "      <th>bant_submit</th>\n",
              "      <th>customer_country</th>\n",
              "      <th>business_unit</th>\n",
              "      <th>com_reg_ver_win_rate</th>\n",
              "      <th>customer_idx</th>\n",
              "      <th>customer_type</th>\n",
              "      <th>enterprise</th>\n",
              "      <th>historical_existing_cnt</th>\n",
              "      <th>id_strategic_ver</th>\n",
              "      <th>it_strategic_ver</th>\n",
              "      <th>...</th>\n",
              "      <th>response_corporate</th>\n",
              "      <th>expected_timeline</th>\n",
              "      <th>ver_cus</th>\n",
              "      <th>ver_pro</th>\n",
              "      <th>ver_win_rate_x</th>\n",
              "      <th>ver_win_ratio_per_bu</th>\n",
              "      <th>business_area</th>\n",
              "      <th>business_subarea</th>\n",
              "      <th>lead_owner</th>\n",
              "      <th>is_converted</th>\n",
              "    </tr>\n",
              "  </thead>\n",
              "  <tbody>\n",
              "    <tr>\n",
              "      <th>0</th>\n",
              "      <td>1.00</td>\n",
              "      <td>/Quezon City/Philippines</td>\n",
              "      <td>AS</td>\n",
              "      <td>0.066667</td>\n",
              "      <td>32160</td>\n",
              "      <td>End-Customer</td>\n",
              "      <td>Enterprise</td>\n",
              "      <td>NaN</td>\n",
              "      <td>NaN</td>\n",
              "      <td>NaN</td>\n",
              "      <td>...</td>\n",
              "      <td>LGEPH</td>\n",
              "      <td>less than 3 months</td>\n",
              "      <td>1</td>\n",
              "      <td>0</td>\n",
              "      <td>0.003079</td>\n",
              "      <td>0.026846</td>\n",
              "      <td>corporate / office</td>\n",
              "      <td>Engineering</td>\n",
              "      <td>0</td>\n",
              "      <td>True</td>\n",
              "    </tr>\n",
              "    <tr>\n",
              "      <th>1</th>\n",
              "      <td>1.00</td>\n",
              "      <td>/PH-00/Philippines</td>\n",
              "      <td>AS</td>\n",
              "      <td>0.066667</td>\n",
              "      <td>23122</td>\n",
              "      <td>End-Customer</td>\n",
              "      <td>Enterprise</td>\n",
              "      <td>12.0</td>\n",
              "      <td>NaN</td>\n",
              "      <td>NaN</td>\n",
              "      <td>...</td>\n",
              "      <td>LGEPH</td>\n",
              "      <td>less than 3 months</td>\n",
              "      <td>1</td>\n",
              "      <td>0</td>\n",
              "      <td>0.003079</td>\n",
              "      <td>0.026846</td>\n",
              "      <td>corporate / office</td>\n",
              "      <td>Advertising</td>\n",
              "      <td>1</td>\n",
              "      <td>True</td>\n",
              "    </tr>\n",
              "    <tr>\n",
              "      <th>2</th>\n",
              "      <td>1.00</td>\n",
              "      <td>/Kolkata /India</td>\n",
              "      <td>AS</td>\n",
              "      <td>0.088889</td>\n",
              "      <td>1755</td>\n",
              "      <td>End-Customer</td>\n",
              "      <td>Enterprise</td>\n",
              "      <td>144.0</td>\n",
              "      <td>NaN</td>\n",
              "      <td>NaN</td>\n",
              "      <td>...</td>\n",
              "      <td>LGEIL</td>\n",
              "      <td>less than 3 months</td>\n",
              "      <td>1</td>\n",
              "      <td>0</td>\n",
              "      <td>0.003079</td>\n",
              "      <td>0.026846</td>\n",
              "      <td>corporate / office</td>\n",
              "      <td>Construction</td>\n",
              "      <td>2</td>\n",
              "      <td>True</td>\n",
              "    </tr>\n",
              "    <tr>\n",
              "      <th>3</th>\n",
              "      <td>1.00</td>\n",
              "      <td>/Bhubaneswar/India</td>\n",
              "      <td>AS</td>\n",
              "      <td>0.088889</td>\n",
              "      <td>4919</td>\n",
              "      <td>End-Customer</td>\n",
              "      <td>Enterprise</td>\n",
              "      <td>NaN</td>\n",
              "      <td>NaN</td>\n",
              "      <td>NaN</td>\n",
              "      <td>...</td>\n",
              "      <td>LGEIL</td>\n",
              "      <td>less than 3 months</td>\n",
              "      <td>1</td>\n",
              "      <td>0</td>\n",
              "      <td>0.003079</td>\n",
              "      <td>0.026846</td>\n",
              "      <td>corporate / office</td>\n",
              "      <td>IT/Software</td>\n",
              "      <td>3</td>\n",
              "      <td>True</td>\n",
              "    </tr>\n",
              "    <tr>\n",
              "      <th>4</th>\n",
              "      <td>1.00</td>\n",
              "      <td>/Hyderabad/India</td>\n",
              "      <td>AS</td>\n",
              "      <td>0.088889</td>\n",
              "      <td>17126</td>\n",
              "      <td>Specifier/ Influencer</td>\n",
              "      <td>Enterprise</td>\n",
              "      <td>NaN</td>\n",
              "      <td>NaN</td>\n",
              "      <td>NaN</td>\n",
              "      <td>...</td>\n",
              "      <td>LGEIL</td>\n",
              "      <td>less than 3 months</td>\n",
              "      <td>0</td>\n",
              "      <td>0</td>\n",
              "      <td>0.003079</td>\n",
              "      <td>0.026846</td>\n",
              "      <td>corporate / office</td>\n",
              "      <td>NaN</td>\n",
              "      <td>4</td>\n",
              "      <td>True</td>\n",
              "    </tr>\n",
              "    <tr>\n",
              "      <th>5</th>\n",
              "      <td>1.00</td>\n",
              "      <td>/Abuja/Nigeria</td>\n",
              "      <td>AS</td>\n",
              "      <td>0.040816</td>\n",
              "      <td>16328</td>\n",
              "      <td>End-Customer</td>\n",
              "      <td>SMB</td>\n",
              "      <td>NaN</td>\n",
              "      <td>NaN</td>\n",
              "      <td>NaN</td>\n",
              "      <td>...</td>\n",
              "      <td>LGEAF</td>\n",
              "      <td>less than 3 months</td>\n",
              "      <td>1</td>\n",
              "      <td>0</td>\n",
              "      <td>0.003079</td>\n",
              "      <td>0.026846</td>\n",
              "      <td>corporate / office</td>\n",
              "      <td>Engineering</td>\n",
              "      <td>5</td>\n",
              "      <td>True</td>\n",
              "    </tr>\n",
              "    <tr>\n",
              "      <th>6</th>\n",
              "      <td>0.75</td>\n",
              "      <td>/Jeddah, KSA/Saudi Arabia</td>\n",
              "      <td>AS</td>\n",
              "      <td>0.040816</td>\n",
              "      <td>20664</td>\n",
              "      <td>End-Customer</td>\n",
              "      <td>SMB</td>\n",
              "      <td>NaN</td>\n",
              "      <td>NaN</td>\n",
              "      <td>NaN</td>\n",
              "      <td>...</td>\n",
              "      <td>LGESJ</td>\n",
              "      <td>NaN</td>\n",
              "      <td>1</td>\n",
              "      <td>0</td>\n",
              "      <td>0.003079</td>\n",
              "      <td>0.026846</td>\n",
              "      <td>corporate / office</td>\n",
              "      <td>Engineering</td>\n",
              "      <td>6</td>\n",
              "      <td>True</td>\n",
              "    </tr>\n",
              "    <tr>\n",
              "      <th>7</th>\n",
              "      <td>1.00</td>\n",
              "      <td>/Guwahati/India</td>\n",
              "      <td>AS</td>\n",
              "      <td>0.088889</td>\n",
              "      <td>17983</td>\n",
              "      <td>End-Customer</td>\n",
              "      <td>SMB</td>\n",
              "      <td>NaN</td>\n",
              "      <td>NaN</td>\n",
              "      <td>NaN</td>\n",
              "      <td>...</td>\n",
              "      <td>LGEIL</td>\n",
              "      <td>less than 3 months</td>\n",
              "      <td>1</td>\n",
              "      <td>0</td>\n",
              "      <td>0.003079</td>\n",
              "      <td>0.026846</td>\n",
              "      <td>corporate / office</td>\n",
              "      <td>Manufacturing</td>\n",
              "      <td>7</td>\n",
              "      <td>True</td>\n",
              "    </tr>\n",
              "    <tr>\n",
              "      <th>8</th>\n",
              "      <td>0.75</td>\n",
              "      <td>/Cebu city/Philippines</td>\n",
              "      <td>AS</td>\n",
              "      <td>0.066667</td>\n",
              "      <td>30867</td>\n",
              "      <td>Specifier/ Influencer</td>\n",
              "      <td>Enterprise</td>\n",
              "      <td>3.0</td>\n",
              "      <td>NaN</td>\n",
              "      <td>NaN</td>\n",
              "      <td>...</td>\n",
              "      <td>LGEPH</td>\n",
              "      <td>less than 3 months</td>\n",
              "      <td>0</td>\n",
              "      <td>0</td>\n",
              "      <td>0.003079</td>\n",
              "      <td>0.026846</td>\n",
              "      <td>corporate / office</td>\n",
              "      <td>Construction</td>\n",
              "      <td>8</td>\n",
              "      <td>True</td>\n",
              "    </tr>\n",
              "    <tr>\n",
              "      <th>9</th>\n",
              "      <td>0.75</td>\n",
              "      <td>/hauz khas,delhi/India</td>\n",
              "      <td>AS</td>\n",
              "      <td>0.088889</td>\n",
              "      <td>6084</td>\n",
              "      <td>End-Customer</td>\n",
              "      <td>SMB</td>\n",
              "      <td>NaN</td>\n",
              "      <td>NaN</td>\n",
              "      <td>NaN</td>\n",
              "      <td>...</td>\n",
              "      <td>LGEIL</td>\n",
              "      <td>3 months ~ 6 months</td>\n",
              "      <td>1</td>\n",
              "      <td>0</td>\n",
              "      <td>0.003079</td>\n",
              "      <td>0.026846</td>\n",
              "      <td>corporate / office</td>\n",
              "      <td>NaN</td>\n",
              "      <td>9</td>\n",
              "      <td>True</td>\n",
              "    </tr>\n",
              "  </tbody>\n",
              "</table>\n",
              "<p>10 rows × 29 columns</p>\n",
              "</div>\n",
              "    <div class=\"colab-df-buttons\">\n",
              "\n",
              "  <div class=\"colab-df-container\">\n",
              "    <button class=\"colab-df-convert\" onclick=\"convertToInteractive('df-683981d2-6a9d-42cb-98bb-57eb187927a9')\"\n",
              "            title=\"Convert this dataframe to an interactive table.\"\n",
              "            style=\"display:none;\">\n",
              "\n",
              "  <svg xmlns=\"http://www.w3.org/2000/svg\" height=\"24px\" viewBox=\"0 -960 960 960\">\n",
              "    <path d=\"M120-120v-720h720v720H120Zm60-500h600v-160H180v160Zm220 220h160v-160H400v160Zm0 220h160v-160H400v160ZM180-400h160v-160H180v160Zm440 0h160v-160H620v160ZM180-180h160v-160H180v160Zm440 0h160v-160H620v160Z\"/>\n",
              "  </svg>\n",
              "    </button>\n",
              "\n",
              "  <style>\n",
              "    .colab-df-container {\n",
              "      display:flex;\n",
              "      gap: 12px;\n",
              "    }\n",
              "\n",
              "    .colab-df-convert {\n",
              "      background-color: #E8F0FE;\n",
              "      border: none;\n",
              "      border-radius: 50%;\n",
              "      cursor: pointer;\n",
              "      display: none;\n",
              "      fill: #1967D2;\n",
              "      height: 32px;\n",
              "      padding: 0 0 0 0;\n",
              "      width: 32px;\n",
              "    }\n",
              "\n",
              "    .colab-df-convert:hover {\n",
              "      background-color: #E2EBFA;\n",
              "      box-shadow: 0px 1px 2px rgba(60, 64, 67, 0.3), 0px 1px 3px 1px rgba(60, 64, 67, 0.15);\n",
              "      fill: #174EA6;\n",
              "    }\n",
              "\n",
              "    .colab-df-buttons div {\n",
              "      margin-bottom: 4px;\n",
              "    }\n",
              "\n",
              "    [theme=dark] .colab-df-convert {\n",
              "      background-color: #3B4455;\n",
              "      fill: #D2E3FC;\n",
              "    }\n",
              "\n",
              "    [theme=dark] .colab-df-convert:hover {\n",
              "      background-color: #434B5C;\n",
              "      box-shadow: 0px 1px 3px 1px rgba(0, 0, 0, 0.15);\n",
              "      filter: drop-shadow(0px 1px 2px rgba(0, 0, 0, 0.3));\n",
              "      fill: #FFFFFF;\n",
              "    }\n",
              "  </style>\n",
              "\n",
              "    <script>\n",
              "      const buttonEl =\n",
              "        document.querySelector('#df-683981d2-6a9d-42cb-98bb-57eb187927a9 button.colab-df-convert');\n",
              "      buttonEl.style.display =\n",
              "        google.colab.kernel.accessAllowed ? 'block' : 'none';\n",
              "\n",
              "      async function convertToInteractive(key) {\n",
              "        const element = document.querySelector('#df-683981d2-6a9d-42cb-98bb-57eb187927a9');\n",
              "        const dataTable =\n",
              "          await google.colab.kernel.invokeFunction('convertToInteractive',\n",
              "                                                    [key], {});\n",
              "        if (!dataTable) return;\n",
              "\n",
              "        const docLinkHtml = 'Like what you see? Visit the ' +\n",
              "          '<a target=\"_blank\" href=https://colab.research.google.com/notebooks/data_table.ipynb>data table notebook</a>'\n",
              "          + ' to learn more about interactive tables.';\n",
              "        element.innerHTML = '';\n",
              "        dataTable['output_type'] = 'display_data';\n",
              "        await google.colab.output.renderOutput(dataTable, element);\n",
              "        const docLink = document.createElement('div');\n",
              "        docLink.innerHTML = docLinkHtml;\n",
              "        element.appendChild(docLink);\n",
              "      }\n",
              "    </script>\n",
              "  </div>\n",
              "\n",
              "\n",
              "<div id=\"df-f6ce5067-20e9-4a41-a067-739c3430654d\">\n",
              "  <button class=\"colab-df-quickchart\" onclick=\"quickchart('df-f6ce5067-20e9-4a41-a067-739c3430654d')\"\n",
              "            title=\"Suggest charts\"\n",
              "            style=\"display:none;\">\n",
              "\n",
              "<svg xmlns=\"http://www.w3.org/2000/svg\" height=\"24px\"viewBox=\"0 0 24 24\"\n",
              "     width=\"24px\">\n",
              "    <g>\n",
              "        <path d=\"M19 3H5c-1.1 0-2 .9-2 2v14c0 1.1.9 2 2 2h14c1.1 0 2-.9 2-2V5c0-1.1-.9-2-2-2zM9 17H7v-7h2v7zm4 0h-2V7h2v10zm4 0h-2v-4h2v4z\"/>\n",
              "    </g>\n",
              "</svg>\n",
              "  </button>\n",
              "\n",
              "<style>\n",
              "  .colab-df-quickchart {\n",
              "      --bg-color: #E8F0FE;\n",
              "      --fill-color: #1967D2;\n",
              "      --hover-bg-color: #E2EBFA;\n",
              "      --hover-fill-color: #174EA6;\n",
              "      --disabled-fill-color: #AAA;\n",
              "      --disabled-bg-color: #DDD;\n",
              "  }\n",
              "\n",
              "  [theme=dark] .colab-df-quickchart {\n",
              "      --bg-color: #3B4455;\n",
              "      --fill-color: #D2E3FC;\n",
              "      --hover-bg-color: #434B5C;\n",
              "      --hover-fill-color: #FFFFFF;\n",
              "      --disabled-bg-color: #3B4455;\n",
              "      --disabled-fill-color: #666;\n",
              "  }\n",
              "\n",
              "  .colab-df-quickchart {\n",
              "    background-color: var(--bg-color);\n",
              "    border: none;\n",
              "    border-radius: 50%;\n",
              "    cursor: pointer;\n",
              "    display: none;\n",
              "    fill: var(--fill-color);\n",
              "    height: 32px;\n",
              "    padding: 0;\n",
              "    width: 32px;\n",
              "  }\n",
              "\n",
              "  .colab-df-quickchart:hover {\n",
              "    background-color: var(--hover-bg-color);\n",
              "    box-shadow: 0 1px 2px rgba(60, 64, 67, 0.3), 0 1px 3px 1px rgba(60, 64, 67, 0.15);\n",
              "    fill: var(--button-hover-fill-color);\n",
              "  }\n",
              "\n",
              "  .colab-df-quickchart-complete:disabled,\n",
              "  .colab-df-quickchart-complete:disabled:hover {\n",
              "    background-color: var(--disabled-bg-color);\n",
              "    fill: var(--disabled-fill-color);\n",
              "    box-shadow: none;\n",
              "  }\n",
              "\n",
              "  .colab-df-spinner {\n",
              "    border: 2px solid var(--fill-color);\n",
              "    border-color: transparent;\n",
              "    border-bottom-color: var(--fill-color);\n",
              "    animation:\n",
              "      spin 1s steps(1) infinite;\n",
              "  }\n",
              "\n",
              "  @keyframes spin {\n",
              "    0% {\n",
              "      border-color: transparent;\n",
              "      border-bottom-color: var(--fill-color);\n",
              "      border-left-color: var(--fill-color);\n",
              "    }\n",
              "    20% {\n",
              "      border-color: transparent;\n",
              "      border-left-color: var(--fill-color);\n",
              "      border-top-color: var(--fill-color);\n",
              "    }\n",
              "    30% {\n",
              "      border-color: transparent;\n",
              "      border-left-color: var(--fill-color);\n",
              "      border-top-color: var(--fill-color);\n",
              "      border-right-color: var(--fill-color);\n",
              "    }\n",
              "    40% {\n",
              "      border-color: transparent;\n",
              "      border-right-color: var(--fill-color);\n",
              "      border-top-color: var(--fill-color);\n",
              "    }\n",
              "    60% {\n",
              "      border-color: transparent;\n",
              "      border-right-color: var(--fill-color);\n",
              "    }\n",
              "    80% {\n",
              "      border-color: transparent;\n",
              "      border-right-color: var(--fill-color);\n",
              "      border-bottom-color: var(--fill-color);\n",
              "    }\n",
              "    90% {\n",
              "      border-color: transparent;\n",
              "      border-bottom-color: var(--fill-color);\n",
              "    }\n",
              "  }\n",
              "</style>\n",
              "\n",
              "  <script>\n",
              "    async function quickchart(key) {\n",
              "      const quickchartButtonEl =\n",
              "        document.querySelector('#' + key + ' button');\n",
              "      quickchartButtonEl.disabled = true;  // To prevent multiple clicks.\n",
              "      quickchartButtonEl.classList.add('colab-df-spinner');\n",
              "      try {\n",
              "        const charts = await google.colab.kernel.invokeFunction(\n",
              "            'suggestCharts', [key], {});\n",
              "      } catch (error) {\n",
              "        console.error('Error during call to suggestCharts:', error);\n",
              "      }\n",
              "      quickchartButtonEl.classList.remove('colab-df-spinner');\n",
              "      quickchartButtonEl.classList.add('colab-df-quickchart-complete');\n",
              "    }\n",
              "    (() => {\n",
              "      let quickchartButtonEl =\n",
              "        document.querySelector('#df-f6ce5067-20e9-4a41-a067-739c3430654d button');\n",
              "      quickchartButtonEl.style.display =\n",
              "        google.colab.kernel.accessAllowed ? 'block' : 'none';\n",
              "    })();\n",
              "  </script>\n",
              "</div>\n",
              "\n",
              "    </div>\n",
              "  </div>\n"
            ],
            "application/vnd.google.colaboratory.intrinsic+json": {
              "type": "dataframe",
              "variable_name": "df_train"
            }
          },
          "metadata": {},
          "execution_count": 5
        }
      ]
    },
    {
      "cell_type": "markdown",
      "source": [
        "Correlation"
      ],
      "metadata": {
        "id": "I4POyo6LzU3T"
      }
    },
    {
      "cell_type": "code",
      "source": [
        "# Correlation of 'is_converted' with each feature\n",
        "corr_matrix = df_train.corr(numeric_only = True)\n",
        "corr_matrix[\"is_converted\"].sort_values(ascending = False)"
      ],
      "metadata": {
        "colab": {
          "base_uri": "https://localhost:8080/"
        },
        "id": "8D4DIn1cv_oC",
        "outputId": "1b3f6c85-f17f-49fd-851e-d338d6711f68"
      },
      "execution_count": null,
      "outputs": [
        {
          "output_type": "execute_result",
          "data": {
            "text/plain": [
              "is_converted               1.000000\n",
              "com_reg_ver_win_rate       0.342590\n",
              "lead_desc_length           0.112822\n",
              "ver_win_ratio_per_bu       0.109572\n",
              "lead_owner                 0.098862\n",
              "ver_cus                    0.063554\n",
              "ver_pro                    0.008846\n",
              "bant_submit               -0.002480\n",
              "historical_existing_cnt   -0.004490\n",
              "ver_win_rate_x            -0.048552\n",
              "customer_idx              -0.056425\n",
              "id_strategic_ver                NaN\n",
              "it_strategic_ver                NaN\n",
              "idit_strategic_ver              NaN\n",
              "Name: is_converted, dtype: float64"
            ]
          },
          "metadata": {},
          "execution_count": 5
        }
      ]
    },
    {
      "cell_type": "markdown",
      "source": [
        "Data Visualization"
      ],
      "metadata": {
        "id": "Lqb2ju8ozY7b"
      }
    },
    {
      "cell_type": "code",
      "source": [
        "df_train.hist(bins=30, figsize=(12, 8))\n",
        "plt.show()"
      ],
      "metadata": {
        "colab": {
          "base_uri": "https://localhost:8080/",
          "height": 699
        },
        "id": "UQnO0v1TwcIf",
        "outputId": "0cc99d46-8c92-4835-fb30-e921ae0ae158"
      },
      "execution_count": null,
      "outputs": [
        {
          "output_type": "display_data",
          "data": {
            "text/plain": [
              "<Figure size 1200x800 with 16 Axes>"
            ],
            "image/png": "[encoded data removed]"
          },
          "metadata": {}
        }
      ]
    },
    {
      "cell_type": "markdown",
      "source": [
        "# Data Scaling\n"
      ],
      "metadata": {
        "id": "ZltE-_Cs03-P"
      }
    },
    {
      "cell_type": "markdown",
      "source": [
        "1. Eliminate Outlier\n"
      ],
      "metadata": {
        "id": "fM2TvXdS2DFn"
      }
    },
    {
      "cell_type": "code",
      "source": [
        "df_all = pd.concat([df_train, df_test])\n",
        "con = \"customer_country\"\n",
        "ext = \"expected_timeline\"\n",
        "# Let's get rid of the space between the sides\n",
        "last_words = df_all[con].str.split('/').str[-1].str.strip()\n",
        "df_all[con] = last_words\n",
        "# Let's extract outliers (count to 5 or less, mainly e-mail addresses) and change them to 'India'\n",
        "value_counts = df_all[con].value_counts()\n",
        "words_below_5 = value_counts[value_counts < 5].index\n",
        "df_all = df_all.replace({con : words_below_5}, \"India\")\n",
        "\n",
        "value_counts = df_all[ext].value_counts()\n",
        "words_below_50 = value_counts[value_counts < 50].index\n",
        "df_all = df_all.replace({ext : words_below_50}, \"etc.\")\n",
        "\n",
        "# Split data\n",
        "df_train[con] = df_all.iloc[: len(df_train)][con]\n",
        "df_test[con] = df_all.iloc[len(df_train) :][con]\n",
        "\n",
        "df_train[ext] = df_all.iloc[: len(df_train)][ext]\n",
        "df_test[ext] = df_all.iloc[len(df_train) :][ext]"
      ],
      "metadata": {
        "id": "HshbLOM603-W"
      },
      "execution_count": null,
      "outputs": []
    },
    {
      "cell_type": "markdown",
      "source": [
        "2. Revise the values that are written differently(it's the same data)."
      ],
      "metadata": {
        "id": "WICjrilh03-W"
      }
    },
    {
      "cell_type": "code",
      "source": [
        "df_all = pd.concat([df_train, df_test])\n",
        "replace_columns = [\n",
        "    \"customer_type\",\n",
        "    \"inquiry_type\",\n",
        "    \"expected_timeline\"\n",
        "]\n",
        "df_all = df_all.replace({\"customer_type\" : \"End Customer\"}, \"End-Customer\")\n",
        "df_all = df_all.replace({\"inquiry_type\" : \"Quotation or purchase consultation\"},\n",
        "                        \"Quotation or Purchase Consultation\")\n",
        "df_all = df_all.replace({\"expected_timeline\" :\"less_than_3_months\"},\n",
        "                        \"less than 3 months\")\n",
        "\n",
        "for col in replace_columns:\n",
        "    df_train[col] = df_all.iloc[: len(df_train)][col]\n",
        "    df_test[col] = df_all.iloc[len(df_train) :][col]\n",
        "\n",
        "df_all[\"expected_timeline\"].value_counts()"
      ],
      "metadata": {
        "colab": {
          "base_uri": "https://localhost:8080/"
        },
        "outputId": "32d48bfc-8f81-4d16-a6d0-f043afef6919",
        "id": "iTETBukw03-X"
      },
      "execution_count": null,
      "outputs": [
        {
          "output_type": "execute_result",
          "data": {
            "text/plain": [
              "less than 3 months     19060\n",
              "3 months ~ 6 months     5452\n",
              "more than a year        3295\n",
              "9 months ~ 1 year       1365\n",
              "6 months ~ 9 months     1265\n",
              "etc.                     688\n",
              "less than 6 months       108\n",
              "being followed up         66\n",
              "Name: expected_timeline, dtype: int64"
            ]
          },
          "metadata": {},
          "execution_count": 7
        }
      ]
    },
    {
      "cell_type": "markdown",
      "source": [
        "3. Let's fill in the NaN"
      ],
      "metadata": {
        "id": "LdX7k2sc03-X"
      }
    },
    {
      "cell_type": "code",
      "source": [
        "# KNNImputer has a better performance than SimpleImputer\n",
        "from sklearn.impute import SimpleImputer\n",
        "imputer = SimpleImputer(strategy = \"median\")\n",
        "\n",
        "from sklearn.impute import KNNImputer\n",
        "knn_imputer = KNNImputer()\n",
        "# Consider the use of the InteractiveImputer as well.\n",
        "from sklearn.preprocessing import StandardScaler\n",
        "std_scaler = StandardScaler()"
      ],
      "metadata": {
        "id": "8l4v12V703-X"
      },
      "execution_count": null,
      "outputs": []
    },
    {
      "cell_type": "markdown",
      "source": [
        "Number type"
      ],
      "metadata": {
        "id": "IWG1zoli03-X"
      }
    },
    {
      "cell_type": "code",
      "source": [
        "# Columns\n",
        "label_columns_num = [\n",
        "    \"com_reg_ver_win_rate\",\n",
        "    \"historical_existing_cnt\",\n",
        "    #\"id_strategic_ver\",\n",
        "    #\"it_strategic_ver\",\n",
        "    #\"idit_strategic_ver\",\n",
        "    \"ver_win_rate_x\",\n",
        "    \"ver_win_ratio_per_bu\"\n",
        "]\n",
        "df_all_num = pd.concat([df_train[label_columns_num],\n",
        "                        df_test[label_columns_num]])\n",
        "#imputer.fit(df_all_num)\n",
        "knn_imputer.fit(df_all_num)\n",
        "\n",
        "#  Fill the NaN\n",
        "#X = imputer.transform(df_all_num)\n",
        "X = knn_imputer.transform(df_all_num)\n",
        "\n",
        "df_all_tr = pd.DataFrame(X, columns = df_all_num.columns,\n",
        "                    index = df_all_num.index)\n",
        "\n",
        "# Return data to train and test set\n",
        "for col in label_columns_num:\n",
        "    df_train[col] = df_all_tr.iloc[: len(df_train)][col]\n",
        "    df_test[col] = df_all_tr.iloc[len(df_train) :][col]\n"
      ],
      "metadata": {
        "id": "GMC57T9103-X"
      },
      "execution_count": null,
      "outputs": []
    },
    {
      "cell_type": "code",
      "source": [
        "label_columns_std = [\n",
        "    \"historical_existing_cnt\",\n",
        "    \"lead_desc_length\"\n",
        "]\n",
        "df_all_std = pd.concat([df_train[label_columns_std],\n",
        "                        df_test[label_columns_std]])\n",
        "# Let's standardize the data\n",
        "X_tr = std_scaler.fit_transform(df_all_std)\n",
        "\n",
        "df_all_std = pd.DataFrame(X_tr, columns = df_all_std.columns,\n",
        "                    index = df_all_std.index)\n",
        "\n",
        "# Return data to train and test set\n",
        "for col in label_columns_std:\n",
        "    df_train[col] = df_all_std.iloc[: len(df_train)][col]\n",
        "    df_test[col] = df_all_std.iloc[len(df_train) :][col]"
      ],
      "metadata": {
        "id": "fqM7t2va03-X"
      },
      "execution_count": null,
      "outputs": []
    },
    {
      "cell_type": "markdown",
      "source": [
        "Catrgoiral data\n"
      ],
      "metadata": {
        "id": "F-HDBMho03-X"
      }
    },
    {
      "cell_type": "code",
      "source": [
        "# Convert catrgoiral data into numerical data\n",
        "def label_encoding(series: pd.Series) -> pd.Series:\n",
        "\n",
        "    my_dict = {}\n",
        "\n",
        "    # Convert all elements into strings\n",
        "    series = series.astype(str)\n",
        "\n",
        "    for idx, value in enumerate(sorted(series.unique())):\n",
        "        my_dict[value] = idx\n",
        "    series = series.map(my_dict)\n",
        "\n",
        "    return series"
      ],
      "metadata": {
        "id": "v1wx7KPS03-X"
      },
      "execution_count": null,
      "outputs": []
    },
    {
      "cell_type": "markdown",
      "source": [
        "Assume Nan value as one category and convert it"
      ],
      "metadata": {
        "id": "NOfUNcnY4vAw"
      }
    },
    {
      "cell_type": "code",
      "source": [
        "label_columns = [\n",
        "    \"business_subarea\",\n",
        "    \"business_area\",\n",
        "    \"business_unit\",\n",
        "    \"customer_type\",\n",
        "    \"enterprise\",\n",
        "    \"customer_job\",\n",
        "    \"inquiry_type\",\n",
        "    \"product_category\",\n",
        "    \"product_subcategory\",\n",
        "    \"product_modelname\",\n",
        "    \"customer_position\",\n",
        "    \"response_corporate\",\n",
        "    \"expected_timeline\",\n",
        "    \"customer_country\",\n",
        "    \"customer_country.1\"\n",
        "]\n",
        "\n",
        "df_all = pd.concat([df_train[label_columns], df_test[label_columns]])\n",
        "# 1. Change object type to Float\n",
        "for col in label_columns:\n",
        "    df_all[col] = label_encoding(df_all[col])\n",
        "\n",
        "# 2. Data standardization\n",
        "'''X = std_scaler.fit_transform(df_all)\n",
        "\n",
        "df_all = pd.DataFrame(X, columns = df_all.columns,\n",
        "                    index = df_all.index)'''\n",
        "\n",
        "# 3. Split data\n",
        "for col in label_columns:\n",
        "    df_train[col] = df_all.iloc[: len(df_train)][col]\n",
        "    df_test[col] = df_all.iloc[len(df_train) :][col]"
      ],
      "metadata": {
        "id": "YL2r_UmE03-Y"
      },
      "execution_count": null,
      "outputs": []
    },
    {
      "cell_type": "markdown",
      "source": [
        "Fill NaN with the most frequent value and convert it"
      ],
      "metadata": {
        "id": "nrGsqxyv5BnL"
      }
    },
    {
      "cell_type": "code",
      "source": [
        "'''# Fill with frequent\n",
        "freq_columns = [\n",
        "    \"business_subarea\",\n",
        "    \"business_area\",\n",
        "    \"business_unit\",\n",
        "    \"customer_type\",\n",
        "    \"enterprise\",\n",
        "    \"customer_job\",\n",
        "    \"inquiry_type\",\n",
        "    \"product_category\",\n",
        "    \"product_subcategory\",\n",
        "    \"product_modelname\",\n",
        "    \"customer_position\",\n",
        "    \"response_corporate\",\n",
        "    \"expected_timeline\",\n",
        "    \"customer_country\",\n",
        "    \"customer_country.1\"\n",
        "]\n",
        "\n",
        "df_all_freq = pd.concat([df_train[freq_columns], df_test[freq_columns]])\n",
        "\n",
        "# Replace it with the most frequency\n",
        "imputer_freq = SimpleImputer(strategy = \"most_frequent\")\n",
        "imputer_freq.fit(df_all_freq)\n",
        "\n",
        "X = imputer_freq.transform(df_all_freq)\n",
        "\n",
        "df_all_freq = pd.DataFrame(X, columns = df_all_freq.columns,\n",
        "                    index = df_all_freq.index)\n",
        "\n",
        "# Convert it object -> float\n",
        "for col in freq_columns:\n",
        "    df_all_freq[col] = label_encoding(df_all_freq[col])\n",
        "df_all_freq= df_all_freq.astype(dtype='float64')\n",
        "\n",
        "# Split data\n",
        "for col in freq_columns:\n",
        "    df_train[col] = df_all_freq.iloc[: len(df_train)][col]\n",
        "    df_test[col] = df_all_freq.iloc[len(df_train) :][col]'''"
      ],
      "metadata": {
        "id": "9aFKQLw203-Y"
      },
      "execution_count": null,
      "outputs": []
    },
    {
      "cell_type": "markdown",
      "source": [
        "# Feature Engineering"
      ],
      "metadata": {
        "id": "McGfuHes7YVL"
      }
    },
    {
      "cell_type": "markdown",
      "source": [
        "## Preference calculator using dual features"
      ],
      "metadata": {
        "id": "NMLNib0U_0_Z"
      }
    },
    {
      "cell_type": "code",
      "source": [
        "def cal_purchase_ratio(series: pd.Series, cus_idx, name):\n",
        "    for value in sorted(series.unique()):\n",
        "        df_pr = df_all[(series == value)]\n",
        "        for idx in sorted(df_pr[cus_idx].unique()):\n",
        "            b =  len(df_pr[(df_pr[cus_idx] == idx) & (df_pr[\"is_converted\"] == True)]) # numerator\n",
        "            a = len(df_pr[df_pr[cus_idx] == idx]) # denominator\n",
        "            condition = (series == value) & (df_all[cus_idx] == idx)\n",
        "            # Apply the condition and add the value 'a'\n",
        "            df_all.loc[condition, \"new_column\"] =  b / a\n",
        "    df_train.insert(2, name, df_all.iloc[: len(df_train)][\"new_column\"])\n",
        "    df_test.insert(3, name, df_all.iloc[len(df_train) :][\"new_column\"])"
      ],
      "metadata": {
        "id": "PEvihxjlef4N"
      },
      "execution_count": null,
      "outputs": []
    },
    {
      "cell_type": "markdown",
      "source": [
        "Customer preferences for specific lead owner."
      ],
      "metadata": {
        "id": "uuq7AdLP64VT"
      }
    },
    {
      "cell_type": "code",
      "source": [
        "df_all = pd.concat([df_train, df_test])\n",
        "cal_purchase_ratio(df_all[\"customer_idx\"], \"lead_owner\", \"customer_lead_owner_compatibility\")"
      ],
      "metadata": {
        "id": "dvAiMgWa7AuM"
      },
      "execution_count": null,
      "outputs": []
    },
    {
      "cell_type": "markdown",
      "source": [
        "Customer preferences for specific products."
      ],
      "metadata": {
        "id": "ef_NOqwg6yxF"
      }
    },
    {
      "cell_type": "code",
      "source": [
        "df_all = pd.concat([df_train, df_test])\n",
        "cal_purchase_ratio(df_all[\"product_category\"], \"customer_idx\", \"customer_product_preference\")"
      ],
      "metadata": {
        "id": "WKM15Dh5K5DF"
      },
      "execution_count": null,
      "outputs": []
    },
    {
      "cell_type": "markdown",
      "source": [
        "Lead owner preferences for specific products."
      ],
      "metadata": {
        "id": "rcERaL6XncZr"
      }
    },
    {
      "cell_type": "code",
      "source": [
        "df_all = pd.concat([df_train, df_test])\n",
        "cal_purchase_ratio(df_all[\"product_category\"], \"lead_owner\", \"lead_owner_product_compatibility\")"
      ],
      "metadata": {
        "id": "bhfNS2jznNs2"
      },
      "execution_count": null,
      "outputs": []
    },
    {
      "cell_type": "markdown",
      "source": [
        "Response corporate preferences for specific products."
      ],
      "metadata": {
        "id": "FCwpa9SEpBqc"
      }
    },
    {
      "cell_type": "code",
      "source": [
        "df_all = pd.concat([df_train, df_test])\n",
        "cal_purchase_ratio(df_all[\"product_category\"], \"response_corporate\", \"corporate_product_compatibility\")"
      ],
      "metadata": {
        "id": "nbPuoFRypAw6"
      },
      "execution_count": null,
      "outputs": []
    },
    {
      "cell_type": "markdown",
      "source": [
        "##Preference Calculator with Triple Features"
      ],
      "metadata": {
        "id": "O_1-DL2SjyxS"
      }
    },
    {
      "cell_type": "code",
      "source": [
        "def cal_purchase_prob(series: pd.Series, cus_idx, cus_idx2, name):\n",
        "    for value in sorted(series.unique()):\n",
        "        df_pr = df_all[(series == value)]\n",
        "        for idx in sorted(df_pr[cus_idx].unique()):\n",
        "            df_pr1 = df_pr[df_pr[cus_idx] == idx]\n",
        "            for idx2 in sorted(df_pr1[cus_idx2].unique()):\n",
        "                b = len(df_pr1[(df_pr1[cus_idx2] == idx2) & (df_pr1[\"is_converted\"] == True)]) # numerator\n",
        "                a = len(df_pr1[df_pr1[cus_idx2] == idx2]) # denominator\n",
        "                condition = (series == value) & (df_all[cus_idx] == idx) & (df_all[cus_idx2] == idx2)\n",
        "                # Apply the condition and add the value 'a'\n",
        "                df_all.loc[condition, \"new_column\"] =  b / a\n",
        "    df_train.insert(2, name, df_all.iloc[: len(df_train)][\"new_column\"])\n",
        "    df_test.insert(3, name, df_all.iloc[len(df_train) :][\"new_column\"])"
      ],
      "metadata": {
        "id": "jMV4-dFAY9Kb"
      },
      "execution_count": null,
      "outputs": []
    },
    {
      "cell_type": "markdown",
      "source": [
        "Customer preferences for specific products and lead owner."
      ],
      "metadata": {
        "id": "NmRs4ZtybE_b"
      }
    },
    {
      "cell_type": "code",
      "source": [
        "df_all = pd.concat([df_train, df_test])\n",
        "cal_purchase_prob(df_all[\"customer_idx\"], \"lead_owner\", \"product_category\",\"customer_lead_product_purchase\")"
      ],
      "metadata": {
        "id": "hsMbaPVLWWrG"
      },
      "execution_count": null,
      "outputs": []
    },
    {
      "cell_type": "markdown",
      "source": [
        "Product preference for a particular customer position"
      ],
      "metadata": {
        "id": "3HsY6WvfiHn3"
      }
    },
    {
      "cell_type": "code",
      "source": [
        "df_all = pd.concat([df_train, df_test])\n",
        "cal_purchase_prob(df_all[\"customer_idx\"], \"customer_position\", \"product_category\",\"position_product_preference\")"
      ],
      "metadata": {
        "id": "LUejGDH3gOZP"
      },
      "execution_count": null,
      "outputs": []
    },
    {
      "cell_type": "markdown",
      "source": [
        "## Preference calculator using single features"
      ],
      "metadata": {
        "id": "OuxFuFpWBUQG"
      }
    },
    {
      "cell_type": "markdown",
      "source": [
        "Scoring the training set and test set together shows higher performance."
      ],
      "metadata": {
        "id": "QibdfQaSmO8y"
      }
    },
    {
      "cell_type": "code",
      "source": [
        "def make_prob_tr(series: pd.Series):\n",
        "\n",
        "    my_dict = {}\n",
        "\n",
        "    for value in sorted(series.unique()):\n",
        "        b = len(df_train[(series == value)])\n",
        "        a = len(df_train[(series == value) & (df_train[\"is_converted\"] == True)])\n",
        "        my_dict[value] = a / b\n",
        "\n",
        "    series = series.map(my_dict)\n",
        "\n",
        "    return series"
      ],
      "metadata": {
        "id": "T-_gNim_Yq80"
      },
      "execution_count": null,
      "outputs": []
    },
    {
      "cell_type": "code",
      "source": [
        "def make_prob_all(series: pd.Series) -> pd.Series:\n",
        "\n",
        "    my_dict = {}\n",
        "\n",
        "    for value in sorted(series.unique()):\n",
        "        b = len(df_all[(series == value)]) # 분모\n",
        "        a = len(df_all[(series == value) & (df_all[\"is_converted\"] == True)]) # 분자\n",
        "        my_dict[value] = a / b\n",
        "    series = series.map(my_dict)\n",
        "\n",
        "    return series"
      ],
      "metadata": {
        "id": "rCTKyo99hNzr"
      },
      "execution_count": null,
      "outputs": []
    },
    {
      "cell_type": "code",
      "source": [
        "pro_columns = [\n",
        "    \"lead_owner\",\n",
        "    \"customer_idx\",\n",
        "    \"business_subarea\",\n",
        "    \"business_area\",\n",
        "    \"business_unit\",\n",
        "    \"customer_type\",\n",
        "    \"enterprise\",\n",
        "    \"customer_job\",\n",
        "    \"inquiry_type\",\n",
        "    \"product_category\",\n",
        "    \"product_subcategory\",\n",
        "    \"product_modelname\",\n",
        "    \"customer_position\",\n",
        "    \"response_corporate\",\n",
        "    \"expected_timeline\",\n",
        "    \"customer_country\",\n",
        "    \"customer_country.1\",\n",
        "    #\"id_strategic_ver\", #\n",
        "    #\"it_strategic_ver\",\n",
        "    #\"idit_strategic_ver\",\n",
        "]"
      ],
      "metadata": {
        "id": "mFGzm_AaU3yI"
      },
      "execution_count": null,
      "outputs": []
    },
    {
      "cell_type": "code",
      "source": [
        "# Scoring categorical to preferences\n",
        "df_all = pd.concat([df_train, df_test])\n",
        "for col in pro_columns:\n",
        "    df_all[col] = make_prob_all(df_all[col])\n",
        "\n",
        "for col in pro_columns:\n",
        "    df_train[col] = df_all.iloc[: len(df_train)][col]\n",
        "    df_test[col] = df_all.iloc[len(df_train) :][col]"
      ],
      "metadata": {
        "id": "J1QWcgDChaZB"
      },
      "execution_count": null,
      "outputs": []
    },
    {
      "cell_type": "code",
      "source": [
        "# Correlation of 'is_converted' with each feature\n",
        "corr_matrix = df_train.corr(numeric_only = True)\n",
        "corr_matrix[\"is_converted\"].sort_values(ascending = False)"
      ],
      "metadata": {
        "colab": {
          "base_uri": "https://localhost:8080/"
        },
        "id": "nKXUQ4BfRrny",
        "outputId": "d7341966-be46-40d3-9ad5-bf0c002ca36e"
      },
      "execution_count": null,
      "outputs": [
        {
          "output_type": "execute_result",
          "data": {
            "text/plain": [
              "is_converted                         1.000000\n",
              "customer_lead_product_purchase       0.992978\n",
              "customer_lead_owner_compatibility    0.990677\n",
              "position_product_preference          0.982295\n",
              "customer_product_preference          0.977856\n",
              "customer_idx                         0.969518\n",
              "lead_owner_product_compatibility     0.702851\n",
              "lead_owner                           0.608278\n",
              "corporate_product_compatibility      0.379648\n",
              "product_category                     0.224155\n",
              "customer_country                     0.215056\n",
              "response_corporate                   0.195855\n",
              "product_modelname                    0.189117\n",
              "product_subcategory                  0.163105\n",
              "business_subarea                     0.161486\n",
              "com_reg_ver_win_rate                 0.155799\n",
              "enterprise                           0.124941\n",
              "customer_type                        0.121362\n",
              "lead_desc_length                     0.112822\n",
              "customer_job                         0.112417\n",
              "business_area                        0.106998\n",
              "ver_win_ratio_per_bu                 0.101268\n",
              "inquiry_type                         0.094840\n",
              "customer_position                    0.088244\n",
              "business_unit                        0.083555\n",
              "expected_timeline                    0.065652\n",
              "ver_cus                              0.063554\n",
              "ver_pro                              0.008846\n",
              "bant_submit                         -0.002480\n",
              "historical_existing_cnt             -0.012285\n",
              "ver_win_rate_x                      -0.021942\n",
              "id_strategic_ver                          NaN\n",
              "it_strategic_ver                          NaN\n",
              "idit_strategic_ver                        NaN\n",
              "Name: is_converted, dtype: float64"
            ]
          },
          "metadata": {},
          "execution_count": 50
        }
      ]
    },
    {
      "cell_type": "markdown",
      "source": [
        "# Pipeline"
      ],
      "metadata": {
        "id": "FVCqHPI-UcyK"
      }
    },
    {
      "cell_type": "code",
      "source": [
        "# Whole process of Pipeline\n",
        "'''\n",
        "from sklearn.preprocessing import FunctionTransformer\n",
        "from sklearn.compose import make_column_selector, make_column_transformer\n",
        "from sklearn.compose import ColumnTransformer\n",
        "from sklearn.pipeline import make_pipeline\n",
        "from sklearn.preprocessing import OneHotEncoder\n",
        "from sklearn.pipeline import Pipeline\n",
        "from sklearn.preprocessing import StandardScaler\n",
        "from sklearn.preprocessing import MinMaxScaler\n",
        "\n",
        "One_Hot_Encoding_Col =[\n",
        "    \"business_unit\",\n",
        "    \"enterprise\",\n",
        "    #\"response_corporate\",\n",
        "    \"business_area\",\n",
        "    \"expected_timeline\"\n",
        "]\n",
        "num_pipeline = Pipeline([\n",
        "    (\"impute\", KNNImputer()),\n",
        "    #(\"MinMaxScale\",MinMaxScaler(feature_range = (-1,1)))\n",
        "    StandardScaler()\n",
        "])\n",
        "\n",
        "cat_pipeline = make_pipeline(\n",
        "    SimpleImputer(strategy = \"most_frequent\"),\n",
        "    OneHotEncoder(handle_unknown = \"ignore\"))\n",
        "\n",
        "log_pipeline = make_pipeline(\n",
        "    KNNImputer(),\n",
        "    FunctionTransformer(lambda x: np.log(x + 0.0001), feature_names_out = \"one-to-one\"),\n",
        "    StandardScaler())\n",
        "\n",
        "default_num_pipeline = make_pipeline(SimpleImputer(strategy = \"median\"),\n",
        "                                    StandardScaler())\n",
        "# make int type log scale.\n",
        "preprocessing = ColumnTransformer([\n",
        "    #(\"num\", num_pipeline,label_columns_num),\n",
        "    #(\"log\", log_pipeline, [\"customer_idx\", \"lead_desc_length\", \"lead_owner\"]),\n",
        "    #(\"num\", num_pipeline, label_columns_num + label_columns),\n",
        "    (\"cat\", cat_pipeline, One_Hot_Encoding_Col)])\n",
        "# make_column_selector(dtype_include = object\n",
        "\n",
        "#remainder = default_num_pipeline\n",
        "'''"
      ],
      "metadata": {
        "id": "MlJ4httWUJLh",
        "colab": {
          "base_uri": "https://localhost:8080/",
          "height": 148
        },
        "outputId": "8a9c3e18-11f5-4762-ccad-82660f785520"
      },
      "execution_count": null,
      "outputs": [
        {
          "output_type": "execute_result",
          "data": {
            "text/plain": [
              "'\\nfrom sklearn.preprocessing import FunctionTransformer\\nfrom sklearn.compose import make_column_selector, make_column_transformer\\nfrom sklearn.compose import ColumnTransformer\\nfrom sklearn.pipeline import make_pipeline\\nfrom sklearn.preprocessing import OneHotEncoder\\nfrom sklearn.pipeline import Pipeline\\nfrom sklearn.preprocessing import StandardScaler\\nfrom sklearn.preprocessing import MinMaxScaler\\n\\nOne_Hot_Encoding_Col =[\\n    \"business_unit\",\\n    \"enterprise\",\\n    #\"response_corporate\",\\n    \"business_area\",\\n    \"expected_timeline\"\\n]\\nnum_pipeline = Pipeline([\\n    (\"impute\", KNNImputer()),\\n    #(\"MinMaxScale\",MinMaxScaler(feature_range = (-1,1)))\\n    StandardScaler()\\n])\\n\\ncat_pipeline = make_pipeline(\\n    SimpleImputer(strategy = \"most_frequent\"),\\n    OneHotEncoder(handle_unknown = \"ignore\"))\\n\\nlog_pipeline = make_pipeline(\\n    KNNImputer(),\\n    FunctionTransformer(lambda x: np.log(x + 0.0001), feature_names_out = \"one-to-one\"),\\n    StandardScaler())\\n\\ndefault_num_pipeline = make_pipeline(SimpleImputer(strategy = \"median\"),\\n                                    StandardScaler())\\n# make int type log scale.\\npreprocessing = ColumnTransformer([\\n    #(\"num\", num_pipeline,label_columns_num),\\n    #(\"log\", log_pipeline, [\"customer_idx\", \"lead_desc_length\", \"lead_owner\"]),\\n    #(\"num\", num_pipeline, label_columns_num + label_columns),\\n    (\"cat\", cat_pipeline, One_Hot_Encoding_Col)])\\n# make_column_selector(dtype_include = object\\n\\n#remainder = default_num_pipeline\\n'"
            ],
            "application/vnd.google.colaboratory.intrinsic+json": {
              "type": "string"
            }
          },
          "metadata": {},
          "execution_count": 31
        }
      ]
    },
    {
      "cell_type": "code",
      "source": [
        "'''df_prepared = preprocessing.fit_transform(df_train)\n",
        "df_prepared.shape\n",
        "#preprocessing.get_feature_names_out()'''"
      ],
      "metadata": {
        "colab": {
          "base_uri": "https://localhost:8080/",
          "height": 36
        },
        "id": "OzsgSps2KGG2",
        "outputId": "d78e2a96-54f9-4b11-aac3-94380b58eaa7"
      },
      "execution_count": null,
      "outputs": [
        {
          "output_type": "execute_result",
          "data": {
            "text/plain": [
              "'df_prepared = preprocessing.fit_transform(df_train)\\ndf_prepared.shape\\n#preprocessing.get_feature_names_out()'"
            ],
            "application/vnd.google.colaboratory.intrinsic+json": {
              "type": "string"
            }
          },
          "metadata": {},
          "execution_count": 32
        }
      ]
    },
    {
      "cell_type": "markdown",
      "source": [
        "Let's drop data"
      ],
      "metadata": {
        "id": "hIINTI46Uk0I"
      }
    },
    {
      "cell_type": "code",
      "source": [
        "label_columns_drop = [\n",
        "    \"customer_country.1\"\n",
        "]\n",
        "\n",
        "for col in label_columns_drop:\n",
        "    df_train.drop([col], axis=1, inplace = True)\n",
        "    df_test.drop([col], axis=1, inplace = True)"
      ],
      "metadata": {
        "id": "Ve7cP_kmUj79"
      },
      "execution_count": null,
      "outputs": []
    },
    {
      "cell_type": "markdown",
      "source": [
        "# Validate model"
      ],
      "metadata": {
        "id": "QxYKwegGn4LY"
      }
    },
    {
      "cell_type": "markdown",
      "source": [
        "##Split it learning and validation data"
      ],
      "metadata": {
        "id": "Lse7-zgYUsxr"
      }
    },
    {
      "cell_type": "code",
      "source": [
        "x_train, x_val, y_train, y_val = train_test_split(\n",
        "    df_train.drop(\"is_converted\", axis=1),\n",
        "    df_train[\"is_converted\"],\n",
        "    test_size=0.2,\n",
        "    shuffle=True,\n",
        "    random_state=400,\n",
        ")"
      ],
      "metadata": {
        "id": "4IrZapYzU0sp"
      },
      "execution_count": null,
      "outputs": []
    },
    {
      "cell_type": "code",
      "source": [
        "x_train.info()"
      ],
      "metadata": {
        "colab": {
          "base_uri": "https://localhost:8080/"
        },
        "id": "V3Ce0iNXJSRZ",
        "outputId": "20920a2a-73a0-4171-bcc2-99ea1e3bf317"
      },
      "execution_count": null,
      "outputs": [
        {
          "output_type": "stream",
          "name": "stdout",
          "text": [
            "<class 'pandas.core.frame.DataFrame'>\n",
            "Int64Index: 47439 entries, 43573 to 53596\n",
            "Data columns (total 33 columns):\n",
            " #   Column                             Non-Null Count  Dtype  \n",
            "---  ------                             --------------  -----  \n",
            " 0   bant_submit                        47439 non-null  float64\n",
            " 1   customer_country                   47439 non-null  float64\n",
            " 2   position_product_preference        47439 non-null  float64\n",
            " 3   customer_lead_product_purchase     47439 non-null  float64\n",
            " 4   corporate_product_compatibility    47439 non-null  float64\n",
            " 5   lead_owner_product_compatibility   47439 non-null  float64\n",
            " 6   customer_product_preference        47439 non-null  float64\n",
            " 7   customer_lead_owner_compatibility  47439 non-null  float64\n",
            " 8   business_unit                      47439 non-null  float64\n",
            " 9   com_reg_ver_win_rate               47439 non-null  float64\n",
            " 10  customer_idx                       47439 non-null  float64\n",
            " 11  customer_type                      47439 non-null  float64\n",
            " 12  enterprise                         47439 non-null  float64\n",
            " 13  historical_existing_cnt            47439 non-null  float64\n",
            " 14  id_strategic_ver                   2756 non-null   float64\n",
            " 15  it_strategic_ver                   900 non-null    float64\n",
            " 16  idit_strategic_ver                 3656 non-null   float64\n",
            " 17  customer_job                       47439 non-null  float64\n",
            " 18  lead_desc_length                   47439 non-null  float64\n",
            " 19  inquiry_type                       47439 non-null  float64\n",
            " 20  product_category                   47439 non-null  float64\n",
            " 21  product_subcategory                47439 non-null  float64\n",
            " 22  product_modelname                  47439 non-null  float64\n",
            " 23  customer_position                  47439 non-null  float64\n",
            " 24  response_corporate                 47439 non-null  float64\n",
            " 25  expected_timeline                  47439 non-null  float64\n",
            " 26  ver_cus                            47439 non-null  int64  \n",
            " 27  ver_pro                            47439 non-null  int64  \n",
            " 28  ver_win_rate_x                     47439 non-null  float64\n",
            " 29  ver_win_ratio_per_bu               47439 non-null  float64\n",
            " 30  business_area                      47439 non-null  float64\n",
            " 31  business_subarea                   47439 non-null  float64\n",
            " 32  lead_owner                         47439 non-null  float64\n",
            "dtypes: float64(31), int64(2)\n",
            "memory usage: 12.3 MB\n"
          ]
        }
      ]
    },
    {
      "cell_type": "markdown",
      "source": [
        "# Train model\n",
        "\n",
        "Candidate\n",
        "\n",
        "- DecisionTreeClassifier\n",
        "- RandomForestClassifier\n",
        "- LogisticRegression\n",
        "- GradientBoostingClassifier\n",
        "- AdaBoostClassifier"
      ],
      "metadata": {
        "id": "5ycppkJFU3Vp"
      }
    },
    {
      "cell_type": "code",
      "source": [
        "#model = make_pipeline(preprocessing, DecisionTreeClassifier())\n",
        "model = DecisionTreeClassifier()   #(max_depth = 4, random_state = 42)\n",
        "model.fit(x_train.fillna(0), y_train)"
      ],
      "metadata": {
        "colab": {
          "base_uri": "https://localhost:8080/",
          "height": 74
        },
        "id": "JepFJAxJU_O5",
        "outputId": "ecdb5495-e580-4e2e-d240-0d71dccbcc22"
      },
      "execution_count": null,
      "outputs": [
        {
          "output_type": "execute_result",
          "data": {
            "text/plain": [
              "DecisionTreeClassifier()"
            ],
            "text/html": [
              "<style>#sk-container-id-6 {color: black;background-color: white;}#sk-container-id-6 pre{padding: 0;}#sk-container-id-6 div.sk-toggleable {background-color: white;}#sk-container-id-6 label.sk-toggleable__label {cursor: pointer;display: block;width: 100%;margin-bottom: 0;padding: 0.3em;box-sizing: border-box;text-align: center;}#sk-container-id-6 label.sk-toggleable__label-arrow:before {content: \"▸\";float: left;margin-right: 0.25em;color: #696969;}#sk-container-id-6 label.sk-toggleable__label-arrow:hover:before {color: black;}#sk-container-id-6 div.sk-estimator:hover label.sk-toggleable__label-arrow:before {color: black;}#sk-container-id-6 div.sk-toggleable__content {max-height: 0;max-width: 0;overflow: hidden;text-align: left;background-color: #f0f8ff;}#sk-container-id-6 div.sk-toggleable__content pre {margin: 0.2em;color: black;border-radius: 0.25em;background-color: #f0f8ff;}#sk-container-id-6 input.sk-toggleable__control:checked~div.sk-toggleable__content {max-height: 200px;max-width: 100%;overflow: auto;}#sk-container-id-6 input.sk-toggleable__control:checked~label.sk-toggleable__label-arrow:before {content: \"▾\";}#sk-container-id-6 div.sk-estimator input.sk-toggleable__control:checked~label.sk-toggleable__label {background-color: #d4ebff;}#sk-container-id-6 div.sk-label input.sk-toggleable__control:checked~label.sk-toggleable__label {background-color: #d4ebff;}#sk-container-id-6 input.sk-hidden--visually {border: 0;clip: rect(1px 1px 1px 1px);clip: rect(1px, 1px, 1px, 1px);height: 1px;margin: -1px;overflow: hidden;padding: 0;position: absolute;width: 1px;}#sk-container-id-6 div.sk-estimator {font-family: monospace;background-color: #f0f8ff;border: 1px dotted black;border-radius: 0.25em;box-sizing: border-box;margin-bottom: 0.5em;}#sk-container-id-6 div.sk-estimator:hover {background-color: #d4ebff;}#sk-container-id-6 div.sk-parallel-item::after {content: \"\";width: 100%;border-bottom: 1px solid gray;flex-grow: 1;}#sk-container-id-6 div.sk-label:hover label.sk-toggleable__label {background-color: #d4ebff;}#sk-container-id-6 div.sk-serial::before {content: \"\";position: absolute;border-left: 1px solid gray;box-sizing: border-box;top: 0;bottom: 0;left: 50%;z-index: 0;}#sk-container-id-6 div.sk-serial {display: flex;flex-direction: column;align-items: center;background-color: white;padding-right: 0.2em;padding-left: 0.2em;position: relative;}#sk-container-id-6 div.sk-item {position: relative;z-index: 1;}#sk-container-id-6 div.sk-parallel {display: flex;align-items: stretch;justify-content: center;background-color: white;position: relative;}#sk-container-id-6 div.sk-item::before, #sk-container-id-6 div.sk-parallel-item::before {content: \"\";position: absolute;border-left: 1px solid gray;box-sizing: border-box;top: 0;bottom: 0;left: 50%;z-index: -1;}#sk-container-id-6 div.sk-parallel-item {display: flex;flex-direction: column;z-index: 1;position: relative;background-color: white;}#sk-container-id-6 div.sk-parallel-item:first-child::after {align-self: flex-end;width: 50%;}#sk-container-id-6 div.sk-parallel-item:last-child::after {align-self: flex-start;width: 50%;}#sk-container-id-6 div.sk-parallel-item:only-child::after {width: 0;}#sk-container-id-6 div.sk-dashed-wrapped {border: 1px dashed gray;margin: 0 0.4em 0.5em 0.4em;box-sizing: border-box;padding-bottom: 0.4em;background-color: white;}#sk-container-id-6 div.sk-label label {font-family: monospace;font-weight: bold;display: inline-block;line-height: 1.2em;}#sk-container-id-6 div.sk-label-container {text-align: center;}#sk-container-id-6 div.sk-container {/* jupyter's `normalize.less` sets `[hidden] { display: none; }` but bootstrap.min.css set `[hidden] { display: none !important; }` so we also need the `!important` here to be able to override the default hidden behavior on the sphinx rendered scikit-learn.org. See: https://github.com/scikit-learn/scikit-learn/issues/21755 */display: inline-block !important;position: relative;}#sk-container-id-6 div.sk-text-repr-fallback {display: none;}</style><div id=\"sk-container-id-6\" class=\"sk-top-container\"><div class=\"sk-text-repr-fallback\"><pre>DecisionTreeClassifier()</pre><b>In a Jupyter environment, please rerun this cell to show the HTML representation or trust the notebook. <br />On GitHub, the HTML representation is unable to render, please try loading this page with nbviewer.org.</b></div><div class=\"sk-container\" hidden><div class=\"sk-item\"><div class=\"sk-estimator sk-toggleable\"><input class=\"sk-toggleable__control sk-hidden--visually\" id=\"sk-estimator-id-6\" type=\"checkbox\" checked><label for=\"sk-estimator-id-6\" class=\"sk-toggleable__label sk-toggleable__label-arrow\">DecisionTreeClassifier</label><div class=\"sk-toggleable__content\"><pre>DecisionTreeClassifier()</pre></div></div></div></div></div>"
            ]
          },
          "metadata": {},
          "execution_count": 51
        }
      ]
    },
    {
      "cell_type": "code",
      "source": [
        "from sklearn.ensemble import RandomForestClassifier\n",
        "model_forest = RandomForestClassifier(random_state=42)\n",
        "#model_forest = make_pipeline(preprocessing,RandomForestClassifier(random_state=42))\n",
        "#model_forest = RandomForestClassifier()\n",
        "model_forest.fit(x_train.fillna(0), y_train)"
      ],
      "metadata": {
        "colab": {
          "base_uri": "https://localhost:8080/",
          "height": 74
        },
        "id": "w-AFp617VPuQ",
        "outputId": "59c821b3-9b3d-452c-f571-3bf860a22553"
      },
      "execution_count": null,
      "outputs": [
        {
          "output_type": "execute_result",
          "data": {
            "text/plain": [
              "RandomForestClassifier(random_state=42)"
            ],
            "text/html": [
              "<style>#sk-container-id-2 {color: black;background-color: white;}#sk-container-id-2 pre{padding: 0;}#sk-container-id-2 div.sk-toggleable {background-color: white;}#sk-container-id-2 label.sk-toggleable__label {cursor: pointer;display: block;width: 100%;margin-bottom: 0;padding: 0.3em;box-sizing: border-box;text-align: center;}#sk-container-id-2 label.sk-toggleable__label-arrow:before {content: \"▸\";float: left;margin-right: 0.25em;color: #696969;}#sk-container-id-2 label.sk-toggleable__label-arrow:hover:before {color: black;}#sk-container-id-2 div.sk-estimator:hover label.sk-toggleable__label-arrow:before {color: black;}#sk-container-id-2 div.sk-toggleable__content {max-height: 0;max-width: 0;overflow: hidden;text-align: left;background-color: #f0f8ff;}#sk-container-id-2 div.sk-toggleable__content pre {margin: 0.2em;color: black;border-radius: 0.25em;background-color: #f0f8ff;}#sk-container-id-2 input.sk-toggleable__control:checked~div.sk-toggleable__content {max-height: 200px;max-width: 100%;overflow: auto;}#sk-container-id-2 input.sk-toggleable__control:checked~label.sk-toggleable__label-arrow:before {content: \"▾\";}#sk-container-id-2 div.sk-estimator input.sk-toggleable__control:checked~label.sk-toggleable__label {background-color: #d4ebff;}#sk-container-id-2 div.sk-label input.sk-toggleable__control:checked~label.sk-toggleable__label {background-color: #d4ebff;}#sk-container-id-2 input.sk-hidden--visually {border: 0;clip: rect(1px 1px 1px 1px);clip: rect(1px, 1px, 1px, 1px);height: 1px;margin: -1px;overflow: hidden;padding: 0;position: absolute;width: 1px;}#sk-container-id-2 div.sk-estimator {font-family: monospace;background-color: #f0f8ff;border: 1px dotted black;border-radius: 0.25em;box-sizing: border-box;margin-bottom: 0.5em;}#sk-container-id-2 div.sk-estimator:hover {background-color: #d4ebff;}#sk-container-id-2 div.sk-parallel-item::after {content: \"\";width: 100%;border-bottom: 1px solid gray;flex-grow: 1;}#sk-container-id-2 div.sk-label:hover label.sk-toggleable__label {background-color: #d4ebff;}#sk-container-id-2 div.sk-serial::before {content: \"\";position: absolute;border-left: 1px solid gray;box-sizing: border-box;top: 0;bottom: 0;left: 50%;z-index: 0;}#sk-container-id-2 div.sk-serial {display: flex;flex-direction: column;align-items: center;background-color: white;padding-right: 0.2em;padding-left: 0.2em;position: relative;}#sk-container-id-2 div.sk-item {position: relative;z-index: 1;}#sk-container-id-2 div.sk-parallel {display: flex;align-items: stretch;justify-content: center;background-color: white;position: relative;}#sk-container-id-2 div.sk-item::before, #sk-container-id-2 div.sk-parallel-item::before {content: \"\";position: absolute;border-left: 1px solid gray;box-sizing: border-box;top: 0;bottom: 0;left: 50%;z-index: -1;}#sk-container-id-2 div.sk-parallel-item {display: flex;flex-direction: column;z-index: 1;position: relative;background-color: white;}#sk-container-id-2 div.sk-parallel-item:first-child::after {align-self: flex-end;width: 50%;}#sk-container-id-2 div.sk-parallel-item:last-child::after {align-self: flex-start;width: 50%;}#sk-container-id-2 div.sk-parallel-item:only-child::after {width: 0;}#sk-container-id-2 div.sk-dashed-wrapped {border: 1px dashed gray;margin: 0 0.4em 0.5em 0.4em;box-sizing: border-box;padding-bottom: 0.4em;background-color: white;}#sk-container-id-2 div.sk-label label {font-family: monospace;font-weight: bold;display: inline-block;line-height: 1.2em;}#sk-container-id-2 div.sk-label-container {text-align: center;}#sk-container-id-2 div.sk-container {/* jupyter's `normalize.less` sets `[hidden] { display: none; }` but bootstrap.min.css set `[hidden] { display: none !important; }` so we also need the `!important` here to be able to override the default hidden behavior on the sphinx rendered scikit-learn.org. See: https://github.com/scikit-learn/scikit-learn/issues/21755 */display: inline-block !important;position: relative;}#sk-container-id-2 div.sk-text-repr-fallback {display: none;}</style><div id=\"sk-container-id-2\" class=\"sk-top-container\"><div class=\"sk-text-repr-fallback\"><pre>RandomForestClassifier(random_state=42)</pre><b>In a Jupyter environment, please rerun this cell to show the HTML representation or trust the notebook. <br />On GitHub, the HTML representation is unable to render, please try loading this page with nbviewer.org.</b></div><div class=\"sk-container\" hidden><div class=\"sk-item\"><div class=\"sk-estimator sk-toggleable\"><input class=\"sk-toggleable__control sk-hidden--visually\" id=\"sk-estimator-id-2\" type=\"checkbox\" checked><label for=\"sk-estimator-id-2\" class=\"sk-toggleable__label sk-toggleable__label-arrow\">RandomForestClassifier</label><div class=\"sk-toggleable__content\"><pre>RandomForestClassifier(random_state=42)</pre></div></div></div></div></div>"
            ]
          },
          "metadata": {},
          "execution_count": 30
        }
      ]
    },
    {
      "cell_type": "code",
      "source": [
        "from sklearn.linear_model import LogisticRegression\n",
        "model_log_reg = LogisticRegression(max_iter = 7000, random_state=42) #penalty = 'l2', C = 0.01\n",
        "#model_log_reg = LogisticRegression(max_iter = 10000)\n",
        "#model_log_reg = make_pipeline(preprocessing,LogisticRegression(max_iter = 10000))\n",
        "model_log_reg.fit(x_train.fillna(0), y_train)"
      ],
      "metadata": {
        "colab": {
          "base_uri": "https://localhost:8080/",
          "height": 74
        },
        "id": "rA2xS3aDVX9f",
        "outputId": "1cd09f5b-b445-48ba-cb38-eeecd620521b"
      },
      "execution_count": null,
      "outputs": [
        {
          "output_type": "execute_result",
          "data": {
            "text/plain": [
              "LogisticRegression(max_iter=7000, random_state=42)"
            ],
            "text/html": [
              "<style>#sk-container-id-3 {color: black;background-color: white;}#sk-container-id-3 pre{padding: 0;}#sk-container-id-3 div.sk-toggleable {background-color: white;}#sk-container-id-3 label.sk-toggleable__label {cursor: pointer;display: block;width: 100%;margin-bottom: 0;padding: 0.3em;box-sizing: border-box;text-align: center;}#sk-container-id-3 label.sk-toggleable__label-arrow:before {content: \"▸\";float: left;margin-right: 0.25em;color: #696969;}#sk-container-id-3 label.sk-toggleable__label-arrow:hover:before {color: black;}#sk-container-id-3 div.sk-estimator:hover label.sk-toggleable__label-arrow:before {color: black;}#sk-container-id-3 div.sk-toggleable__content {max-height: 0;max-width: 0;overflow: hidden;text-align: left;background-color: #f0f8ff;}#sk-container-id-3 div.sk-toggleable__content pre {margin: 0.2em;color: black;border-radius: 0.25em;background-color: #f0f8ff;}#sk-container-id-3 input.sk-toggleable__control:checked~div.sk-toggleable__content {max-height: 200px;max-width: 100%;overflow: auto;}#sk-container-id-3 input.sk-toggleable__control:checked~label.sk-toggleable__label-arrow:before {content: \"▾\";}#sk-container-id-3 div.sk-estimator input.sk-toggleable__control:checked~label.sk-toggleable__label {background-color: #d4ebff;}#sk-container-id-3 div.sk-label input.sk-toggleable__control:checked~label.sk-toggleable__label {background-color: #d4ebff;}#sk-container-id-3 input.sk-hidden--visually {border: 0;clip: rect(1px 1px 1px 1px);clip: rect(1px, 1px, 1px, 1px);height: 1px;margin: -1px;overflow: hidden;padding: 0;position: absolute;width: 1px;}#sk-container-id-3 div.sk-estimator {font-family: monospace;background-color: #f0f8ff;border: 1px dotted black;border-radius: 0.25em;box-sizing: border-box;margin-bottom: 0.5em;}#sk-container-id-3 div.sk-estimator:hover {background-color: #d4ebff;}#sk-container-id-3 div.sk-parallel-item::after {content: \"\";width: 100%;border-bottom: 1px solid gray;flex-grow: 1;}#sk-container-id-3 div.sk-label:hover label.sk-toggleable__label {background-color: #d4ebff;}#sk-container-id-3 div.sk-serial::before {content: \"\";position: absolute;border-left: 1px solid gray;box-sizing: border-box;top: 0;bottom: 0;left: 50%;z-index: 0;}#sk-container-id-3 div.sk-serial {display: flex;flex-direction: column;align-items: center;background-color: white;padding-right: 0.2em;padding-left: 0.2em;position: relative;}#sk-container-id-3 div.sk-item {position: relative;z-index: 1;}#sk-container-id-3 div.sk-parallel {display: flex;align-items: stretch;justify-content: center;background-color: white;position: relative;}#sk-container-id-3 div.sk-item::before, #sk-container-id-3 div.sk-parallel-item::before {content: \"\";position: absolute;border-left: 1px solid gray;box-sizing: border-box;top: 0;bottom: 0;left: 50%;z-index: -1;}#sk-container-id-3 div.sk-parallel-item {display: flex;flex-direction: column;z-index: 1;position: relative;background-color: white;}#sk-container-id-3 div.sk-parallel-item:first-child::after {align-self: flex-end;width: 50%;}#sk-container-id-3 div.sk-parallel-item:last-child::after {align-self: flex-start;width: 50%;}#sk-container-id-3 div.sk-parallel-item:only-child::after {width: 0;}#sk-container-id-3 div.sk-dashed-wrapped {border: 1px dashed gray;margin: 0 0.4em 0.5em 0.4em;box-sizing: border-box;padding-bottom: 0.4em;background-color: white;}#sk-container-id-3 div.sk-label label {font-family: monospace;font-weight: bold;display: inline-block;line-height: 1.2em;}#sk-container-id-3 div.sk-label-container {text-align: center;}#sk-container-id-3 div.sk-container {/* jupyter's `normalize.less` sets `[hidden] { display: none; }` but bootstrap.min.css set `[hidden] { display: none !important; }` so we also need the `!important` here to be able to override the default hidden behavior on the sphinx rendered scikit-learn.org. See: https://github.com/scikit-learn/scikit-learn/issues/21755 */display: inline-block !important;position: relative;}#sk-container-id-3 div.sk-text-repr-fallback {display: none;}</style><div id=\"sk-container-id-3\" class=\"sk-top-container\"><div class=\"sk-text-repr-fallback\"><pre>LogisticRegression(max_iter=7000, random_state=42)</pre><b>In a Jupyter environment, please rerun this cell to show the HTML representation or trust the notebook. <br />On GitHub, the HTML representation is unable to render, please try loading this page with nbviewer.org.</b></div><div class=\"sk-container\" hidden><div class=\"sk-item\"><div class=\"sk-estimator sk-toggleable\"><input class=\"sk-toggleable__control sk-hidden--visually\" id=\"sk-estimator-id-3\" type=\"checkbox\" checked><label for=\"sk-estimator-id-3\" class=\"sk-toggleable__label sk-toggleable__label-arrow\">LogisticRegression</label><div class=\"sk-toggleable__content\"><pre>LogisticRegression(max_iter=7000, random_state=42)</pre></div></div></div></div></div>"
            ]
          },
          "metadata": {},
          "execution_count": 31
        }
      ]
    },
    {
      "cell_type": "code",
      "source": [
        "from sklearn.ensemble import GradientBoostingClassifier\n",
        "model_grad_boost = GradientBoostingClassifier(n_estimators = 3,\n",
        "                                              min_samples_leaf = 5,\n",
        "                                              max_depth = 3,\n",
        "                                              learning_rate = 1)\n",
        "model_grad_boost.fit(x_train.fillna(0), y_train)"
      ],
      "metadata": {
        "colab": {
          "base_uri": "https://localhost:8080/",
          "height": 74
        },
        "id": "rfW9A8tZtDmy",
        "outputId": "9f22197c-217d-4804-f4c3-bdc842e120d1"
      },
      "execution_count": null,
      "outputs": [
        {
          "output_type": "execute_result",
          "data": {
            "text/plain": [
              "GradientBoostingClassifier(learning_rate=1, min_samples_leaf=5, n_estimators=3)"
            ],
            "text/html": [
              "<style>#sk-container-id-4 {color: black;background-color: white;}#sk-container-id-4 pre{padding: 0;}#sk-container-id-4 div.sk-toggleable {background-color: white;}#sk-container-id-4 label.sk-toggleable__label {cursor: pointer;display: block;width: 100%;margin-bottom: 0;padding: 0.3em;box-sizing: border-box;text-align: center;}#sk-container-id-4 label.sk-toggleable__label-arrow:before {content: \"▸\";float: left;margin-right: 0.25em;color: #696969;}#sk-container-id-4 label.sk-toggleable__label-arrow:hover:before {color: black;}#sk-container-id-4 div.sk-estimator:hover label.sk-toggleable__label-arrow:before {color: black;}#sk-container-id-4 div.sk-toggleable__content {max-height: 0;max-width: 0;overflow: hidden;text-align: left;background-color: #f0f8ff;}#sk-container-id-4 div.sk-toggleable__content pre {margin: 0.2em;color: black;border-radius: 0.25em;background-color: #f0f8ff;}#sk-container-id-4 input.sk-toggleable__control:checked~div.sk-toggleable__content {max-height: 200px;max-width: 100%;overflow: auto;}#sk-container-id-4 input.sk-toggleable__control:checked~label.sk-toggleable__label-arrow:before {content: \"▾\";}#sk-container-id-4 div.sk-estimator input.sk-toggleable__control:checked~label.sk-toggleable__label {background-color: #d4ebff;}#sk-container-id-4 div.sk-label input.sk-toggleable__control:checked~label.sk-toggleable__label {background-color: #d4ebff;}#sk-container-id-4 input.sk-hidden--visually {border: 0;clip: rect(1px 1px 1px 1px);clip: rect(1px, 1px, 1px, 1px);height: 1px;margin: -1px;overflow: hidden;padding: 0;position: absolute;width: 1px;}#sk-container-id-4 div.sk-estimator {font-family: monospace;background-color: #f0f8ff;border: 1px dotted black;border-radius: 0.25em;box-sizing: border-box;margin-bottom: 0.5em;}#sk-container-id-4 div.sk-estimator:hover {background-color: #d4ebff;}#sk-container-id-4 div.sk-parallel-item::after {content: \"\";width: 100%;border-bottom: 1px solid gray;flex-grow: 1;}#sk-container-id-4 div.sk-label:hover label.sk-toggleable__label {background-color: #d4ebff;}#sk-container-id-4 div.sk-serial::before {content: \"\";position: absolute;border-left: 1px solid gray;box-sizing: border-box;top: 0;bottom: 0;left: 50%;z-index: 0;}#sk-container-id-4 div.sk-serial {display: flex;flex-direction: column;align-items: center;background-color: white;padding-right: 0.2em;padding-left: 0.2em;position: relative;}#sk-container-id-4 div.sk-item {position: relative;z-index: 1;}#sk-container-id-4 div.sk-parallel {display: flex;align-items: stretch;justify-content: center;background-color: white;position: relative;}#sk-container-id-4 div.sk-item::before, #sk-container-id-4 div.sk-parallel-item::before {content: \"\";position: absolute;border-left: 1px solid gray;box-sizing: border-box;top: 0;bottom: 0;left: 50%;z-index: -1;}#sk-container-id-4 div.sk-parallel-item {display: flex;flex-direction: column;z-index: 1;position: relative;background-color: white;}#sk-container-id-4 div.sk-parallel-item:first-child::after {align-self: flex-end;width: 50%;}#sk-container-id-4 div.sk-parallel-item:last-child::after {align-self: flex-start;width: 50%;}#sk-container-id-4 div.sk-parallel-item:only-child::after {width: 0;}#sk-container-id-4 div.sk-dashed-wrapped {border: 1px dashed gray;margin: 0 0.4em 0.5em 0.4em;box-sizing: border-box;padding-bottom: 0.4em;background-color: white;}#sk-container-id-4 div.sk-label label {font-family: monospace;font-weight: bold;display: inline-block;line-height: 1.2em;}#sk-container-id-4 div.sk-label-container {text-align: center;}#sk-container-id-4 div.sk-container {/* jupyter's `normalize.less` sets `[hidden] { display: none; }` but bootstrap.min.css set `[hidden] { display: none !important; }` so we also need the `!important` here to be able to override the default hidden behavior on the sphinx rendered scikit-learn.org. See: https://github.com/scikit-learn/scikit-learn/issues/21755 */display: inline-block !important;position: relative;}#sk-container-id-4 div.sk-text-repr-fallback {display: none;}</style><div id=\"sk-container-id-4\" class=\"sk-top-container\"><div class=\"sk-text-repr-fallback\"><pre>GradientBoostingClassifier(learning_rate=1, min_samples_leaf=5, n_estimators=3)</pre><b>In a Jupyter environment, please rerun this cell to show the HTML representation or trust the notebook. <br />On GitHub, the HTML representation is unable to render, please try loading this page with nbviewer.org.</b></div><div class=\"sk-container\" hidden><div class=\"sk-item\"><div class=\"sk-estimator sk-toggleable\"><input class=\"sk-toggleable__control sk-hidden--visually\" id=\"sk-estimator-id-4\" type=\"checkbox\" checked><label for=\"sk-estimator-id-4\" class=\"sk-toggleable__label sk-toggleable__label-arrow\">GradientBoostingClassifier</label><div class=\"sk-toggleable__content\"><pre>GradientBoostingClassifier(learning_rate=1, min_samples_leaf=5, n_estimators=3)</pre></div></div></div></div></div>"
            ]
          },
          "metadata": {},
          "execution_count": 32
        }
      ]
    },
    {
      "cell_type": "code",
      "source": [
        "from sklearn.ensemble import AdaBoostClassifier\n",
        "model_ada_boost = AdaBoostClassifier(n_estimators=5, random_state=42)\n",
        "model_ada_boost.fit(x_train.fillna(0), y_train)"
      ],
      "metadata": {
        "colab": {
          "base_uri": "https://localhost:8080/",
          "height": 74
        },
        "id": "7xWi8LYYud5s",
        "outputId": "a71bb075-01e2-4f36-9c3e-5485674b9b37"
      },
      "execution_count": null,
      "outputs": [
        {
          "output_type": "execute_result",
          "data": {
            "text/plain": [
              "AdaBoostClassifier(n_estimators=5, random_state=42)"
            ],
            "text/html": [
              "<style>#sk-container-id-5 {color: black;background-color: white;}#sk-container-id-5 pre{padding: 0;}#sk-container-id-5 div.sk-toggleable {background-color: white;}#sk-container-id-5 label.sk-toggleable__label {cursor: pointer;display: block;width: 100%;margin-bottom: 0;padding: 0.3em;box-sizing: border-box;text-align: center;}#sk-container-id-5 label.sk-toggleable__label-arrow:before {content: \"▸\";float: left;margin-right: 0.25em;color: #696969;}#sk-container-id-5 label.sk-toggleable__label-arrow:hover:before {color: black;}#sk-container-id-5 div.sk-estimator:hover label.sk-toggleable__label-arrow:before {color: black;}#sk-container-id-5 div.sk-toggleable__content {max-height: 0;max-width: 0;overflow: hidden;text-align: left;background-color: #f0f8ff;}#sk-container-id-5 div.sk-toggleable__content pre {margin: 0.2em;color: black;border-radius: 0.25em;background-color: #f0f8ff;}#sk-container-id-5 input.sk-toggleable__control:checked~div.sk-toggleable__content {max-height: 200px;max-width: 100%;overflow: auto;}#sk-container-id-5 input.sk-toggleable__control:checked~label.sk-toggleable__label-arrow:before {content: \"▾\";}#sk-container-id-5 div.sk-estimator input.sk-toggleable__control:checked~label.sk-toggleable__label {background-color: #d4ebff;}#sk-container-id-5 div.sk-label input.sk-toggleable__control:checked~label.sk-toggleable__label {background-color: #d4ebff;}#sk-container-id-5 input.sk-hidden--visually {border: 0;clip: rect(1px 1px 1px 1px);clip: rect(1px, 1px, 1px, 1px);height: 1px;margin: -1px;overflow: hidden;padding: 0;position: absolute;width: 1px;}#sk-container-id-5 div.sk-estimator {font-family: monospace;background-color: #f0f8ff;border: 1px dotted black;border-radius: 0.25em;box-sizing: border-box;margin-bottom: 0.5em;}#sk-container-id-5 div.sk-estimator:hover {background-color: #d4ebff;}#sk-container-id-5 div.sk-parallel-item::after {content: \"\";width: 100%;border-bottom: 1px solid gray;flex-grow: 1;}#sk-container-id-5 div.sk-label:hover label.sk-toggleable__label {background-color: #d4ebff;}#sk-container-id-5 div.sk-serial::before {content: \"\";position: absolute;border-left: 1px solid gray;box-sizing: border-box;top: 0;bottom: 0;left: 50%;z-index: 0;}#sk-container-id-5 div.sk-serial {display: flex;flex-direction: column;align-items: center;background-color: white;padding-right: 0.2em;padding-left: 0.2em;position: relative;}#sk-container-id-5 div.sk-item {position: relative;z-index: 1;}#sk-container-id-5 div.sk-parallel {display: flex;align-items: stretch;justify-content: center;background-color: white;position: relative;}#sk-container-id-5 div.sk-item::before, #sk-container-id-5 div.sk-parallel-item::before {content: \"\";position: absolute;border-left: 1px solid gray;box-sizing: border-box;top: 0;bottom: 0;left: 50%;z-index: -1;}#sk-container-id-5 div.sk-parallel-item {display: flex;flex-direction: column;z-index: 1;position: relative;background-color: white;}#sk-container-id-5 div.sk-parallel-item:first-child::after {align-self: flex-end;width: 50%;}#sk-container-id-5 div.sk-parallel-item:last-child::after {align-self: flex-start;width: 50%;}#sk-container-id-5 div.sk-parallel-item:only-child::after {width: 0;}#sk-container-id-5 div.sk-dashed-wrapped {border: 1px dashed gray;margin: 0 0.4em 0.5em 0.4em;box-sizing: border-box;padding-bottom: 0.4em;background-color: white;}#sk-container-id-5 div.sk-label label {font-family: monospace;font-weight: bold;display: inline-block;line-height: 1.2em;}#sk-container-id-5 div.sk-label-container {text-align: center;}#sk-container-id-5 div.sk-container {/* jupyter's `normalize.less` sets `[hidden] { display: none; }` but bootstrap.min.css set `[hidden] { display: none !important; }` so we also need the `!important` here to be able to override the default hidden behavior on the sphinx rendered scikit-learn.org. See: https://github.com/scikit-learn/scikit-learn/issues/21755 */display: inline-block !important;position: relative;}#sk-container-id-5 div.sk-text-repr-fallback {display: none;}</style><div id=\"sk-container-id-5\" class=\"sk-top-container\"><div class=\"sk-text-repr-fallback\"><pre>AdaBoostClassifier(n_estimators=5, random_state=42)</pre><b>In a Jupyter environment, please rerun this cell to show the HTML representation or trust the notebook. <br />On GitHub, the HTML representation is unable to render, please try loading this page with nbviewer.org.</b></div><div class=\"sk-container\" hidden><div class=\"sk-item\"><div class=\"sk-estimator sk-toggleable\"><input class=\"sk-toggleable__control sk-hidden--visually\" id=\"sk-estimator-id-5\" type=\"checkbox\" checked><label for=\"sk-estimator-id-5\" class=\"sk-toggleable__label sk-toggleable__label-arrow\">AdaBoostClassifier</label><div class=\"sk-toggleable__content\"><pre>AdaBoostClassifier(n_estimators=5, random_state=42)</pre></div></div></div></div></div>"
            ]
          },
          "metadata": {},
          "execution_count": 33
        }
      ]
    },
    {
      "cell_type": "markdown",
      "source": [
        "#HyperParameter Tuning"
      ],
      "metadata": {
        "id": "nqamQC8wVj_z"
      }
    },
    {
      "cell_type": "code",
      "source": [
        "from sklearn.ensemble import GradientBoostingClassifier\n",
        "from sklearn.metrics import f1_score, classification_report\n",
        "from sklearn.model_selection import GridSearchCV\n",
        "model = GradientBoostingClassifier(random_state=42)\n",
        "model.fit(x_train.fillna(0), y_train)\n",
        "\n",
        "# Model Evaluation on Validation Set\n",
        "y_val_pred = model.predict(x_val.fillna(0))\n",
        "f1 = f1_score(y_val, y_val_pred)\n",
        "#print(f\"F1 Score on Validation Set: {f1}\")\n",
        "\n",
        "# Optionally, Hyperparameter Tuning\n",
        "param_grid = {\n",
        "    'n_estimators': [100, 200],\n",
        "    'learning_rate': [0.1, 0.01],\n",
        "    'max_depth': [3, 5]\n",
        "}\n",
        "grid_search = GridSearchCV(GradientBoostingClassifier(random_state=42), param_grid, scoring='f1', cv=5, n_jobs=-1)\n",
        "grid_search.fit(x_train.fillna(0), y_train)\n",
        "\n",
        "# Best parameters and F1 Score\n",
        "best_model = grid_search.best_estimator_\n",
        "y_val_pred_best = best_model.predict(x_val.fillna(0))\n",
        "best_f1 = f1_score(y_val, y_val_pred_best)"
      ],
      "metadata": {
        "id": "kvVXuP6cu4LV"
      },
      "execution_count": null,
      "outputs": []
    },
    {
      "cell_type": "markdown",
      "source": [
        "# Measure model performance"
      ],
      "metadata": {
        "id": "xmn0kmkrVpgc"
      }
    },
    {
      "cell_type": "code",
      "source": [
        "def get_clf_eval(y_test, y_pred=None):\n",
        "    confusion = confusion_matrix(y_test, y_pred, labels=[True, False])\n",
        "    accuracy = accuracy_score(y_test, y_pred)\n",
        "    precision = precision_score(y_test, y_pred, labels=[True, False])\n",
        "    recall = recall_score(y_test, y_pred)\n",
        "    F1 = f1_score(y_test, y_pred, labels=[True, False])\n",
        "\n",
        "    print(\"Confusion Matrix:\\n\", confusion)\n",
        "    print(\"\\nAccuracy: {:.4f}\".format(accuracy))\n",
        "    print(\"Precision: {:.4f}\".format(precision))\n",
        "    print(\"Recall: {:.4f}\".format(recall))\n",
        "    print(\"F1 score: {:.4f}\".format(F1))"
      ],
      "metadata": {
        "id": "AFoAV-cYVsOz"
      },
      "execution_count": null,
      "outputs": []
    },
    {
      "cell_type": "code",
      "source": [
        "pred = model.predict(x_val.fillna(0))\n",
        "#pred = search.predict(x_val.fillna(0))\n",
        "get_clf_eval(y_val, pred)"
      ],
      "metadata": {
        "colab": {
          "base_uri": "https://localhost:8080/"
        },
        "id": "8Fmk38G9Vvdy",
        "outputId": "bac0c06e-9a38-4e19-cffb-e0d9399da837"
      },
      "execution_count": null,
      "outputs": [
        {
          "output_type": "stream",
          "name": "stdout",
          "text": [
            "Confusion Matrix:\n",
            " [[  938     9]\n",
            " [   12 10901]]\n",
            "\n",
            "Accuracy: 0.9982\n",
            "Precision: 0.9874\n",
            "Recall: 0.9905\n",
            "F1 score: 0.9889\n"
          ]
        }
      ]
    },
    {
      "cell_type": "code",
      "source": [
        "pred_forest = model_forest.predict(x_val.fillna(0))\n",
        "get_clf_eval(y_val, pred_forest)"
      ],
      "metadata": {
        "colab": {
          "base_uri": "https://localhost:8080/"
        },
        "id": "86-Vlt1eV2YS",
        "outputId": "6b58106c-e8c9-423f-c1c0-4d59c61409cd"
      },
      "execution_count": null,
      "outputs": [
        {
          "output_type": "stream",
          "name": "stdout",
          "text": [
            "Confusion Matrix:\n",
            " [[  937    10]\n",
            " [   13 10900]]\n",
            "\n",
            "Accuracy: 0.9981\n",
            "Precision: 0.9863\n",
            "Recall: 0.9894\n",
            "F1 score: 0.9879\n"
          ]
        }
      ]
    },
    {
      "cell_type": "code",
      "source": [
        "pred_log_reg = model_log_reg.predict(x_val.fillna(0))\n",
        "get_clf_eval(y_val, pred_log_reg)"
      ],
      "metadata": {
        "colab": {
          "base_uri": "https://localhost:8080/"
        },
        "id": "iNVcrGy_V42o",
        "outputId": "424c0412-32be-4fc7-c9ba-03c92af4e40a"
      },
      "execution_count": null,
      "outputs": [
        {
          "output_type": "stream",
          "name": "stdout",
          "text": [
            "Confusion Matrix:\n",
            " [[  938     9]\n",
            " [    9 10904]]\n",
            "\n",
            "Accuracy: 0.9985\n",
            "Precision: 0.9905\n",
            "Recall: 0.9905\n",
            "F1 score: 0.9905\n"
          ]
        }
      ]
    },
    {
      "cell_type": "code",
      "source": [
        "pred_grad = model_grad_boost.predict(x_val.fillna(0))\n",
        "get_clf_eval(y_val, pred_grad)"
      ],
      "metadata": {
        "colab": {
          "base_uri": "https://localhost:8080/"
        },
        "id": "gJV1z0jvwR26",
        "outputId": "318f003d-d12f-4fb7-fa22-1918bb9998db"
      },
      "execution_count": null,
      "outputs": [
        {
          "output_type": "stream",
          "name": "stdout",
          "text": [
            "Confusion Matrix:\n",
            " [[  941     6]\n",
            " [   19 10894]]\n",
            "\n",
            "Accuracy: 0.9979\n",
            "Precision: 0.9802\n",
            "Recall: 0.9937\n",
            "F1 score: 0.9869\n"
          ]
        }
      ]
    },
    {
      "cell_type": "markdown",
      "source": [
        "#Test\n"
      ],
      "metadata": {
        "id": "sZLQufJmV6jm"
      }
    },
    {
      "cell_type": "code",
      "source": [
        "# Data separation for prediction\n",
        "x_test = df_test.drop([\"is_converted\", \"id\"], axis=1)"
      ],
      "metadata": {
        "id": "po1i3BPdWCnm"
      },
      "execution_count": null,
      "outputs": []
    },
    {
      "cell_type": "code",
      "source": [
        "test_dec_tree = model.predict(x_test.fillna(0))"
      ],
      "metadata": {
        "id": "tJ1Dklw3_-g0"
      },
      "execution_count": null,
      "outputs": []
    },
    {
      "cell_type": "code",
      "source": [
        "test_pred = best_model.predict(x_test.fillna(0))\n",
        "#test_pred = search.predict(x_test.fillna(0))\n",
        "sum(test_pred) # Number predicted as True"
      ],
      "metadata": {
        "colab": {
          "base_uri": "https://localhost:8080/"
        },
        "id": "x73ZCmX7WMPm",
        "outputId": "36483fcb-a3b5-427c-dec2-2e50fe284a9d"
      },
      "execution_count": null,
      "outputs": [
        {
          "output_type": "execute_result",
          "data": {
            "text/plain": [
              "1431"
            ]
          },
          "metadata": {},
          "execution_count": 42
        }
      ]
    },
    {
      "cell_type": "code",
      "source": [
        "test_pred_forest = model_forest.predict(x_test.fillna(0))\n",
        "sum(test_pred_forest) # Number predicted as True"
      ],
      "metadata": {
        "colab": {
          "base_uri": "https://localhost:8080/"
        },
        "id": "CECppFOZWIqb",
        "outputId": "298a5eab-b09d-4ea5-e2de-f4d679bdced7"
      },
      "execution_count": null,
      "outputs": [
        {
          "output_type": "execute_result",
          "data": {
            "text/plain": [
              "1429"
            ]
          },
          "metadata": {},
          "execution_count": 43
        }
      ]
    },
    {
      "cell_type": "code",
      "source": [
        "test_pred_log_reg = model_log_reg.predict(x_test.fillna(0))\n",
        "sum(test_pred_log_reg)"
      ],
      "metadata": {
        "colab": {
          "base_uri": "https://localhost:8080/"
        },
        "id": "wQNg3JfNWQp3",
        "outputId": "6533bfe1-d937-43f2-ffad-0b0b8d0886e9"
      },
      "execution_count": null,
      "outputs": [
        {
          "output_type": "execute_result",
          "data": {
            "text/plain": [
              "1400"
            ]
          },
          "metadata": {},
          "execution_count": 44
        }
      ]
    },
    {
      "cell_type": "code",
      "source": [
        "#pred = search.predict(x_val.fillna(0))\n",
        "df_sub = pd.read_csv(\"/content/drive/MyDrive/LG Aimers/submission.csv\")\n",
        "get_clf_eval(df_sub[\"is_converted\"], test_pred)"
      ],
      "metadata": {
        "colab": {
          "base_uri": "https://localhost:8080/"
        },
        "id": "myTocWEYWt9p",
        "outputId": "23d60d10-9129-4da1-face-b61de492ecf8"
      },
      "execution_count": null,
      "outputs": [
        {
          "output_type": "stream",
          "name": "stdout",
          "text": [
            "Confusion Matrix:\n",
            " [[1389   24]\n",
            " [  42 3816]]\n",
            "\n",
            "Accuracy: 0.9875\n",
            "Precision: 0.9706\n",
            "Recall: 0.9830\n",
            "F1 score: 0.9768\n"
          ]
        }
      ]
    },
    {
      "cell_type": "code",
      "source": [
        "get_clf_eval(df_sub[\"is_converted\"], test_pred_forest)"
      ],
      "metadata": {
        "colab": {
          "base_uri": "https://localhost:8080/"
        },
        "id": "d1JITnxTb3ZW",
        "outputId": "9afe9731-87af-4a32-b455-77d70b034894"
      },
      "execution_count": null,
      "outputs": [
        {
          "output_type": "stream",
          "name": "stdout",
          "text": [
            "Confusion Matrix:\n",
            " [[1382   31]\n",
            " [  47 3811]]\n",
            "\n",
            "Accuracy: 0.9852\n",
            "Precision: 0.9671\n",
            "Recall: 0.9781\n",
            "F1 score: 0.9726\n"
          ]
        }
      ]
    },
    {
      "cell_type": "code",
      "source": [
        "get_clf_eval(df_sub[\"is_converted\"], test_dec_tree)"
      ],
      "metadata": {
        "colab": {
          "base_uri": "https://localhost:8080/"
        },
        "id": "6Q_JP9jD_s-e",
        "outputId": "2f20c9a1-3a09-42d7-f745-d303ee512c0c"
      },
      "execution_count": null,
      "outputs": [
        {
          "output_type": "stream",
          "name": "stdout",
          "text": [
            "Confusion Matrix:\n",
            " [[1382   31]\n",
            " [  43 3815]]\n",
            "\n",
            "Accuracy: 0.9860\n",
            "Precision: 0.9698\n",
            "Recall: 0.9781\n",
            "F1 score: 0.9739\n"
          ]
        }
      ]
    },
    {
      "cell_type": "markdown",
      "source": [
        "##Write submission file"
      ],
      "metadata": {
        "id": "fP5MLbwiWSrt"
      }
    },
    {
      "cell_type": "code",
      "source": [
        "'''# Read submit data\n",
        "df_sub = pd.read_csv(\"submission.csv\")\n",
        "df_sub[\"is_converted\"] = test_pred\n",
        "\n",
        "# Save submit file\n",
        "df_sub.to_csv(\"submission.csv\", index=False)'''"
      ],
      "metadata": {
        "colab": {
          "base_uri": "https://localhost:8080/",
          "height": 54
        },
        "id": "2QRlNaX9WVyl",
        "outputId": "269f360d-74f5-43e0-bbd9-a8531252aa8f"
      },
      "execution_count": null,
      "outputs": [
        {
          "output_type": "execute_result",
          "data": {
            "text/plain": [
              "'# Read submit data\\ndf_sub = pd.read_csv(\"submission.csv\")\\ndf_sub[\"is_converted\"] = test_pred\\n\\n# Save submit file\\ndf_sub.to_csv(\"submission.csv\", index=False)'"
            ],
            "application/vnd.google.colaboratory.intrinsic+json": {
              "type": "string"
            }
          },
          "metadata": {},
          "execution_count": 2
        }
      ]
    }
  ]
}
